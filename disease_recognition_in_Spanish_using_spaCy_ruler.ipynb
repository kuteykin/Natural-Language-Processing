{
 "cells": [
  {
   "cell_type": "markdown",
   "id": "02ac631c",
   "metadata": {
    "id": "02ac631c"
   },
   "source": [
    "# Token Classification: customisation of NER tagging model for recognition of new entity using *spaCy*\n"
   ]
  },
  {
   "cell_type": "markdown",
   "id": "W-2VzKcnZfmk",
   "metadata": {
    "id": "W-2VzKcnZfmk"
   },
   "source": [
    "## OBJECTIVE: recognise and tag all diseases from medical records / scientific literature in Spanish language"
   ]
  },
  {
   "cell_type": "markdown",
   "id": "34e2cc59",
   "metadata": {},
   "source": [
    "### Task 1: Make model to recognise all named entities in Spanish including diseases\n",
    "\n",
    "###  Task 2: Read the text from all tweets in \"*/training*\" directory, tokenize it and label the tokens with IOB ner_tags *(for Spanish disease names only, ignoring other entities)*\n"
   ]
  },
  {
   "cell_type": "markdown",
   "id": "b84e837b",
   "metadata": {},
   "source": [
    "### Datasets: \n",
    "1. *'Listado_enfermedades_CIE-10.csv'* : Disease list from CIE-10 (IDC-10, International Classification of Diseases 10th Revision, Spanish version https://icdcode.info/espanol/cie-10/codigos.html). This CSV list forked from https://github.com/verasativa/CIE-10 .\n",
    "2. *'enfermedades_tweets.txt'* : List of \"common names\" of diseases in Spanish obtained by scraping from tweets *(private, not uploaded to GitHub)*\n",
    "3. *'/training/ * .txt'*: Collection of 5.000 Spanish tweets mentioning diseases and pathologies, one tweet per TXT file *(private, not uploaded to GitHub)*"
   ]
  },
  {
   "cell_type": "code",
   "execution_count": 1,
   "id": "b0136cfc",
   "metadata": {
    "executionInfo": {
     "elapsed": 731,
     "status": "ok",
     "timestamp": 1660547643591,
     "user": {
      "displayName": "Konstantin KUTEYKIN TEPLYAKOV",
      "userId": "04703267818047594055"
     },
     "user_tz": -60
    },
    "id": "b0136cfc"
   },
   "outputs": [],
   "source": [
    "# Importing basic libraries\n",
    "import pandas as pd"
   ]
  },
  {
   "cell_type": "code",
   "execution_count": 2,
   "id": "f5221c5a",
   "metadata": {
    "executionInfo": {
     "elapsed": 16,
     "status": "ok",
     "timestamp": 1660547643595,
     "user": {
      "displayName": "Konstantin KUTEYKIN TEPLYAKOV",
      "userId": "04703267818047594055"
     },
     "user_tz": -60
    },
    "id": "f5221c5a"
   },
   "outputs": [],
   "source": [
    "import matplotlib.pyplot as plt\n",
    "%matplotlib inline"
   ]
  },
  {
   "cell_type": "code",
   "execution_count": 3,
   "id": "0d6a4833",
   "metadata": {
    "colab": {
     "base_uri": "https://localhost:8080/"
    },
    "executionInfo": {
     "elapsed": 15977,
     "status": "ok",
     "timestamp": 1660547692936,
     "user": {
      "displayName": "Konstantin KUTEYKIN TEPLYAKOV",
      "userId": "04703267818047594055"
     },
     "user_tz": -60
    },
    "id": "0d6a4833",
    "outputId": "c9107ad4-a05f-4e8d-c953-e7c2335e099c"
   },
   "outputs": [],
   "source": [
    "# Installation of spaCy models for Spanish (https://spacy.io/models/es)\n",
    "\n",
    "# !python -m spacy download es_core_news_sm    # Small model\n",
    "\n",
    "# !python -m spacy download es_core_news_md    # Medium-size model\n",
    "\n",
    "# !python -m spacy download es_core_news_lg    # Long model\n",
    "\n",
    "# !python -m spacy download es_dep_news_trf    # Transformer pipeline (dccuchile/bert-base-spanish-wwm-cased)"
   ]
  },
  {
   "cell_type": "code",
   "execution_count": 4,
   "id": "a0324eec",
   "metadata": {},
   "outputs": [],
   "source": [
    "import random"
   ]
  },
  {
   "cell_type": "code",
   "execution_count": 5,
   "id": "5367fa1b",
   "metadata": {},
   "outputs": [],
   "source": [
    "import re"
   ]
  },
  {
   "cell_type": "code",
   "execution_count": 6,
   "id": "OLX6bxTxn0Sl",
   "metadata": {
    "executionInfo": {
     "elapsed": 9,
     "status": "ok",
     "timestamp": 1660547700406,
     "user": {
      "displayName": "Konstantin KUTEYKIN TEPLYAKOV",
      "userId": "04703267818047594055"
     },
     "user_tz": -60
    },
    "id": "OLX6bxTxn0Sl"
   },
   "outputs": [],
   "source": [
    "from pathlib import Path"
   ]
  },
  {
   "cell_type": "code",
   "execution_count": 7,
   "id": "c9628bcc",
   "metadata": {
    "executionInfo": {
     "elapsed": 13,
     "status": "ok",
     "timestamp": 1660547700733,
     "user": {
      "displayName": "Konstantin KUTEYKIN TEPLYAKOV",
      "userId": "04703267818047594055"
     },
     "user_tz": -60
    },
    "id": "c9628bcc"
   },
   "outputs": [],
   "source": [
    "training_dir = Path('Input/training')"
   ]
  },
  {
   "cell_type": "markdown",
   "id": "0V330iVtW870",
   "metadata": {
    "id": "0V330iVtW870"
   },
   "source": [
    "### Load input examples and disease database"
   ]
  },
  {
   "cell_type": "markdown",
   "id": "9f46def9",
   "metadata": {
    "id": "9f46def9"
   },
   "source": [
    "**Challenges**:\n",
    "1. Uppercase/Lowercase\n",
    "2. Unicode characters (e.g.: 'á', 'é', 'í', 'ü', 'â', 'ñ' might be written different way)\n",
    "3. Multiple entries of the same disease (*'covid'/'covid-19'/'covid 19'*;  *'diabetis'/'diabet'/'diabética'*) \n",
    "\n",
    "**Normalization** and **Curation** might be necessary for some approaches:\n",
    "1. Normalization for disease list and for every input text (tweet) before analysis.\n",
    "2. For DL approach: train model for all possible spelling variants"
   ]
  },
  {
   "cell_type": "code",
   "execution_count": 8,
   "id": "dc70f96b",
   "metadata": {
    "executionInfo": {
     "elapsed": 482,
     "status": "ok",
     "timestamp": 1660548513505,
     "user": {
      "displayName": "Konstantin KUTEYKIN TEPLYAKOV",
      "userId": "04703267818047594055"
     },
     "user_tz": -60
    },
    "id": "dc70f96b"
   },
   "outputs": [],
   "source": [
    "# Input standartization (Uppercase/lowercase, unicode chars)\n",
    "\n",
    "import unicodedata\n",
    "def normalize_caseless(text):\n",
    "    return unicodedata.normalize(\"NFKD\", text.casefold())"
   ]
  },
  {
   "cell_type": "code",
   "execution_count": 9,
   "id": "ae8e1029",
   "metadata": {},
   "outputs": [],
   "source": [
    "# Reading of list from file (one disease name per line)\n",
    "#'Common names\" for diseases obtained from tweets\n",
    "\n",
    "with open('Input/enfermedades_tweets.txt') as file:\n",
    "    diseases_from_tweets= re.split(r'[\\n#@%:;¡!?¿/]', normalize_caseless(file.read()))   "
   ]
  },
  {
   "cell_type": "code",
   "execution_count": 10,
   "id": "c2113508",
   "metadata": {},
   "outputs": [
    {
     "data": {
      "text/plain": [
       "['cáncerdemama',\n",
       " 'rotura ligamento cruzado interior',\n",
       " 'síndrome de ovario poliquístico',\n",
       " 'phelan',\n",
       " 'síndrome de abstinencia',\n",
       " 'tentativa de suicidio',\n",
       " 'estenosis',\n",
       " 'alergia al limón',\n",
       " 'bloqueo 💔grado 1 o 2',\n",
       " 'pelvis renal bífida',\n",
       " 'hemorragia intraventricular, afectación infrantentorial',\n",
       " 'víctima de maltrato',\n",
       " 'neurofibromatosis tipo ii',\n",
       " 'cuadro gripal',\n",
       " 'hipotensión grave',\n",
       " 'les en adultos',\n",
       " 'pápulas excoriadas y algunas vesículas en codos, región lumbar y glúteos',\n",
       " 'cicatrices en el corazón',\n",
       " 'jaquecas',\n",
       " 'acv en ganglios basales']"
      ]
     },
     "execution_count": 10,
     "metadata": {},
     "output_type": "execute_result"
    }
   ],
   "source": [
    "random.sample(diseases_from_tweets, 20)"
   ]
  },
  {
   "cell_type": "code",
   "execution_count": 11,
   "id": "f385bc63",
   "metadata": {},
   "outputs": [
    {
     "data": {
      "text/plain": [
       "4357"
      ]
     },
     "execution_count": 11,
     "metadata": {},
     "output_type": "execute_result"
    }
   ],
   "source": [
    "len(diseases_from_tweets)"
   ]
  },
  {
   "cell_type": "code",
   "execution_count": 12,
   "id": "69e365d3",
   "metadata": {},
   "outputs": [
    {
     "data": {
      "text/html": [
       "<div>\n",
       "<style scoped>\n",
       "    .dataframe tbody tr th:only-of-type {\n",
       "        vertical-align: middle;\n",
       "    }\n",
       "\n",
       "    .dataframe tbody tr th {\n",
       "        vertical-align: top;\n",
       "    }\n",
       "\n",
       "    .dataframe thead th {\n",
       "        text-align: right;\n",
       "    }\n",
       "</style>\n",
       "<table border=\"1\" class=\"dataframe\">\n",
       "  <thead>\n",
       "    <tr style=\"text-align: right;\">\n",
       "      <th></th>\n",
       "      <th>code</th>\n",
       "      <th>code_0</th>\n",
       "      <th>code_1</th>\n",
       "      <th>code_2</th>\n",
       "      <th>code_3</th>\n",
       "      <th>code_4</th>\n",
       "      <th>description</th>\n",
       "      <th>level</th>\n",
       "      <th>source</th>\n",
       "    </tr>\n",
       "  </thead>\n",
       "  <tbody>\n",
       "    <tr>\n",
       "      <th>0</th>\n",
       "      <td>A00-B99</td>\n",
       "      <td>NaN</td>\n",
       "      <td>NaN</td>\n",
       "      <td>NaN</td>\n",
       "      <td>NaN</td>\n",
       "      <td>NaN</td>\n",
       "      <td>Ciertas enfermedades infecciosas y parasitarias</td>\n",
       "      <td>0</td>\n",
       "      <td>icdcode.info</td>\n",
       "    </tr>\n",
       "    <tr>\n",
       "      <th>1</th>\n",
       "      <td>C00-D49</td>\n",
       "      <td>NaN</td>\n",
       "      <td>NaN</td>\n",
       "      <td>NaN</td>\n",
       "      <td>NaN</td>\n",
       "      <td>NaN</td>\n",
       "      <td>Tumores [neoplasias]</td>\n",
       "      <td>0</td>\n",
       "      <td>icdcode.info</td>\n",
       "    </tr>\n",
       "    <tr>\n",
       "      <th>2</th>\n",
       "      <td>D50-D89</td>\n",
       "      <td>NaN</td>\n",
       "      <td>NaN</td>\n",
       "      <td>NaN</td>\n",
       "      <td>NaN</td>\n",
       "      <td>NaN</td>\n",
       "      <td>Enfermedades de la sangre y de los órganos hem...</td>\n",
       "      <td>0</td>\n",
       "      <td>icdcode.info</td>\n",
       "    </tr>\n",
       "    <tr>\n",
       "      <th>3</th>\n",
       "      <td>E00-E89</td>\n",
       "      <td>NaN</td>\n",
       "      <td>NaN</td>\n",
       "      <td>NaN</td>\n",
       "      <td>NaN</td>\n",
       "      <td>NaN</td>\n",
       "      <td>Enfermedades endocrinas, nutricionales y metab...</td>\n",
       "      <td>0</td>\n",
       "      <td>icdcode.info</td>\n",
       "    </tr>\n",
       "    <tr>\n",
       "      <th>4</th>\n",
       "      <td>F01-F99</td>\n",
       "      <td>NaN</td>\n",
       "      <td>NaN</td>\n",
       "      <td>NaN</td>\n",
       "      <td>NaN</td>\n",
       "      <td>NaN</td>\n",
       "      <td>Trastornos mentales y del comportamiento</td>\n",
       "      <td>0</td>\n",
       "      <td>icdcode.info</td>\n",
       "    </tr>\n",
       "  </tbody>\n",
       "</table>\n",
       "</div>"
      ],
      "text/plain": [
       "      code code_0 code_1 code_2 code_3 code_4  \\\n",
       "0  A00-B99    NaN    NaN    NaN    NaN    NaN   \n",
       "1  C00-D49    NaN    NaN    NaN    NaN    NaN   \n",
       "2  D50-D89    NaN    NaN    NaN    NaN    NaN   \n",
       "3  E00-E89    NaN    NaN    NaN    NaN    NaN   \n",
       "4  F01-F99    NaN    NaN    NaN    NaN    NaN   \n",
       "\n",
       "                                         description  level        source  \n",
       "0    Ciertas enfermedades infecciosas y parasitarias      0  icdcode.info  \n",
       "1                               Tumores [neoplasias]      0  icdcode.info  \n",
       "2  Enfermedades de la sangre y de los órganos hem...      0  icdcode.info  \n",
       "3  Enfermedades endocrinas, nutricionales y metab...      0  icdcode.info  \n",
       "4           Trastornos mentales y del comportamiento      0  icdcode.info  "
      ]
     },
     "execution_count": 12,
     "metadata": {},
     "output_type": "execute_result"
    }
   ],
   "source": [
    "# Reading of \"official\" disease names (according to IDC-10 / CIE-10 standard) from CSV file\n",
    "\n",
    "cie = pd.read_csv('Input/Listado_enfermedades_CIE-10.csv')\n",
    "cie.head()"
   ]
  },
  {
   "cell_type": "code",
   "execution_count": 13,
   "id": "ea38bca3",
   "metadata": {},
   "outputs": [
    {
     "data": {
      "text/html": [
       "<div>\n",
       "<style scoped>\n",
       "    .dataframe tbody tr th:only-of-type {\n",
       "        vertical-align: middle;\n",
       "    }\n",
       "\n",
       "    .dataframe tbody tr th {\n",
       "        vertical-align: top;\n",
       "    }\n",
       "\n",
       "    .dataframe thead th {\n",
       "        text-align: right;\n",
       "    }\n",
       "</style>\n",
       "<table border=\"1\" class=\"dataframe\">\n",
       "  <thead>\n",
       "    <tr style=\"text-align: right;\">\n",
       "      <th></th>\n",
       "      <th>code</th>\n",
       "      <th>code_0</th>\n",
       "      <th>code_1</th>\n",
       "      <th>code_2</th>\n",
       "      <th>code_3</th>\n",
       "      <th>code_4</th>\n",
       "      <th>description</th>\n",
       "      <th>level</th>\n",
       "      <th>source</th>\n",
       "    </tr>\n",
       "  </thead>\n",
       "  <tbody>\n",
       "    <tr>\n",
       "      <th>200</th>\n",
       "      <td>H05</td>\n",
       "      <td>H00-H59</td>\n",
       "      <td>H00-H06</td>\n",
       "      <td>NaN</td>\n",
       "      <td>NaN</td>\n",
       "      <td>NaN</td>\n",
       "      <td>Trastornos de la órbita</td>\n",
       "      <td>2</td>\n",
       "      <td>icdcode.info</td>\n",
       "    </tr>\n",
       "    <tr>\n",
       "      <th>201</th>\n",
       "      <td>H06</td>\n",
       "      <td>H00-H59</td>\n",
       "      <td>H00-H06</td>\n",
       "      <td>NaN</td>\n",
       "      <td>NaN</td>\n",
       "      <td>NaN</td>\n",
       "      <td>Trastornos del aparato lagrimal y de la órbita...</td>\n",
       "      <td>2</td>\n",
       "      <td>icdcode.info</td>\n",
       "    </tr>\n",
       "    <tr>\n",
       "      <th>202</th>\n",
       "      <td>P75-P78</td>\n",
       "      <td>P00-P96</td>\n",
       "      <td>NaN</td>\n",
       "      <td>NaN</td>\n",
       "      <td>NaN</td>\n",
       "      <td>NaN</td>\n",
       "      <td>Trastornos del sistema digestivo del feto y de...</td>\n",
       "      <td>1</td>\n",
       "      <td>icdcode.info</td>\n",
       "    </tr>\n",
       "    <tr>\n",
       "      <th>203</th>\n",
       "      <td>P80-P83</td>\n",
       "      <td>P00-P96</td>\n",
       "      <td>NaN</td>\n",
       "      <td>NaN</td>\n",
       "      <td>NaN</td>\n",
       "      <td>NaN</td>\n",
       "      <td>Afecciones asociadas con la regulación tegumen...</td>\n",
       "      <td>1</td>\n",
       "      <td>icdcode.info</td>\n",
       "    </tr>\n",
       "    <tr>\n",
       "      <th>204</th>\n",
       "      <td>P90-P96</td>\n",
       "      <td>P00-P96</td>\n",
       "      <td>NaN</td>\n",
       "      <td>NaN</td>\n",
       "      <td>NaN</td>\n",
       "      <td>NaN</td>\n",
       "      <td>Otros trastornos originados en el período peri...</td>\n",
       "      <td>1</td>\n",
       "      <td>icdcode.info</td>\n",
       "    </tr>\n",
       "    <tr>\n",
       "      <th>205</th>\n",
       "      <td>O60-O75</td>\n",
       "      <td>O00-O9A</td>\n",
       "      <td>NaN</td>\n",
       "      <td>NaN</td>\n",
       "      <td>NaN</td>\n",
       "      <td>NaN</td>\n",
       "      <td>Complicaciones del trabajo de parto y del parto</td>\n",
       "      <td>1</td>\n",
       "      <td>icdcode.info</td>\n",
       "    </tr>\n",
       "    <tr>\n",
       "      <th>206</th>\n",
       "      <td>O80-O84</td>\n",
       "      <td>O00-O9A</td>\n",
       "      <td>NaN</td>\n",
       "      <td>NaN</td>\n",
       "      <td>NaN</td>\n",
       "      <td>NaN</td>\n",
       "      <td>Parto</td>\n",
       "      <td>1</td>\n",
       "      <td>icdcode.info</td>\n",
       "    </tr>\n",
       "    <tr>\n",
       "      <th>207</th>\n",
       "      <td>O85-O92</td>\n",
       "      <td>O00-O9A</td>\n",
       "      <td>NaN</td>\n",
       "      <td>NaN</td>\n",
       "      <td>NaN</td>\n",
       "      <td>NaN</td>\n",
       "      <td>Complicaciones principalmente relacionadas con...</td>\n",
       "      <td>1</td>\n",
       "      <td>icdcode.info</td>\n",
       "    </tr>\n",
       "    <tr>\n",
       "      <th>208</th>\n",
       "      <td>O94-O99</td>\n",
       "      <td>O00-O9A</td>\n",
       "      <td>NaN</td>\n",
       "      <td>NaN</td>\n",
       "      <td>NaN</td>\n",
       "      <td>NaN</td>\n",
       "      <td>Otras afecciones obstétricas no clasificadas e...</td>\n",
       "      <td>1</td>\n",
       "      <td>icdcode.info</td>\n",
       "    </tr>\n",
       "    <tr>\n",
       "      <th>209</th>\n",
       "      <td>F40</td>\n",
       "      <td>F01-F99</td>\n",
       "      <td>F40-F48</td>\n",
       "      <td>NaN</td>\n",
       "      <td>NaN</td>\n",
       "      <td>NaN</td>\n",
       "      <td>Trastornos fóbicos de ansiedad</td>\n",
       "      <td>2</td>\n",
       "      <td>icdcode.info</td>\n",
       "    </tr>\n",
       "    <tr>\n",
       "      <th>210</th>\n",
       "      <td>F41</td>\n",
       "      <td>F01-F99</td>\n",
       "      <td>F40-F48</td>\n",
       "      <td>NaN</td>\n",
       "      <td>NaN</td>\n",
       "      <td>NaN</td>\n",
       "      <td>Otros trastornos de ansiedad</td>\n",
       "      <td>2</td>\n",
       "      <td>icdcode.info</td>\n",
       "    </tr>\n",
       "    <tr>\n",
       "      <th>211</th>\n",
       "      <td>F42</td>\n",
       "      <td>F01-F99</td>\n",
       "      <td>F40-F48</td>\n",
       "      <td>NaN</td>\n",
       "      <td>NaN</td>\n",
       "      <td>NaN</td>\n",
       "      <td>Trastorno obsesivo-compulsivo</td>\n",
       "      <td>2</td>\n",
       "      <td>icdcode.info</td>\n",
       "    </tr>\n",
       "    <tr>\n",
       "      <th>212</th>\n",
       "      <td>F43</td>\n",
       "      <td>F01-F99</td>\n",
       "      <td>F40-F48</td>\n",
       "      <td>NaN</td>\n",
       "      <td>NaN</td>\n",
       "      <td>NaN</td>\n",
       "      <td>Reacción al estrés grave y trastornos de adapt...</td>\n",
       "      <td>2</td>\n",
       "      <td>icdcode.info</td>\n",
       "    </tr>\n",
       "    <tr>\n",
       "      <th>213</th>\n",
       "      <td>F44</td>\n",
       "      <td>F01-F99</td>\n",
       "      <td>F40-F48</td>\n",
       "      <td>NaN</td>\n",
       "      <td>NaN</td>\n",
       "      <td>NaN</td>\n",
       "      <td>Trastornos disociativos [de conversión]</td>\n",
       "      <td>2</td>\n",
       "      <td>icdcode.info</td>\n",
       "    </tr>\n",
       "    <tr>\n",
       "      <th>214</th>\n",
       "      <td>F45</td>\n",
       "      <td>F01-F99</td>\n",
       "      <td>F40-F48</td>\n",
       "      <td>NaN</td>\n",
       "      <td>NaN</td>\n",
       "      <td>NaN</td>\n",
       "      <td>Trastornos somatomorfos</td>\n",
       "      <td>2</td>\n",
       "      <td>icdcode.info</td>\n",
       "    </tr>\n",
       "    <tr>\n",
       "      <th>215</th>\n",
       "      <td>F48</td>\n",
       "      <td>F01-F99</td>\n",
       "      <td>F40-F48</td>\n",
       "      <td>NaN</td>\n",
       "      <td>NaN</td>\n",
       "      <td>NaN</td>\n",
       "      <td>Otros trastornos neuróticos</td>\n",
       "      <td>2</td>\n",
       "      <td>icdcode.info</td>\n",
       "    </tr>\n",
       "    <tr>\n",
       "      <th>216</th>\n",
       "      <td>N30-N39</td>\n",
       "      <td>N00-N99</td>\n",
       "      <td>NaN</td>\n",
       "      <td>NaN</td>\n",
       "      <td>NaN</td>\n",
       "      <td>NaN</td>\n",
       "      <td>Otras enfermedades del sistema urinario</td>\n",
       "      <td>1</td>\n",
       "      <td>icdcode.info</td>\n",
       "    </tr>\n",
       "    <tr>\n",
       "      <th>217</th>\n",
       "      <td>N40-N51</td>\n",
       "      <td>N00-N99</td>\n",
       "      <td>NaN</td>\n",
       "      <td>NaN</td>\n",
       "      <td>NaN</td>\n",
       "      <td>NaN</td>\n",
       "      <td>Enfermedades de los órganos genitales masculinos</td>\n",
       "      <td>1</td>\n",
       "      <td>icdcode.info</td>\n",
       "    </tr>\n",
       "    <tr>\n",
       "      <th>218</th>\n",
       "      <td>N60-N64</td>\n",
       "      <td>N00-N99</td>\n",
       "      <td>NaN</td>\n",
       "      <td>NaN</td>\n",
       "      <td>NaN</td>\n",
       "      <td>NaN</td>\n",
       "      <td>Trastornos de la mama</td>\n",
       "      <td>1</td>\n",
       "      <td>icdcode.info</td>\n",
       "    </tr>\n",
       "    <tr>\n",
       "      <th>219</th>\n",
       "      <td>N70-N77</td>\n",
       "      <td>N00-N99</td>\n",
       "      <td>NaN</td>\n",
       "      <td>NaN</td>\n",
       "      <td>NaN</td>\n",
       "      <td>NaN</td>\n",
       "      <td>Enfermedades inflamatorias de los órganos pélv...</td>\n",
       "      <td>1</td>\n",
       "      <td>icdcode.info</td>\n",
       "    </tr>\n",
       "  </tbody>\n",
       "</table>\n",
       "</div>"
      ],
      "text/plain": [
       "        code   code_0   code_1 code_2 code_3 code_4  \\\n",
       "200      H05  H00-H59  H00-H06    NaN    NaN    NaN   \n",
       "201      H06  H00-H59  H00-H06    NaN    NaN    NaN   \n",
       "202  P75-P78  P00-P96      NaN    NaN    NaN    NaN   \n",
       "203  P80-P83  P00-P96      NaN    NaN    NaN    NaN   \n",
       "204  P90-P96  P00-P96      NaN    NaN    NaN    NaN   \n",
       "205  O60-O75  O00-O9A      NaN    NaN    NaN    NaN   \n",
       "206  O80-O84  O00-O9A      NaN    NaN    NaN    NaN   \n",
       "207  O85-O92  O00-O9A      NaN    NaN    NaN    NaN   \n",
       "208  O94-O99  O00-O9A      NaN    NaN    NaN    NaN   \n",
       "209      F40  F01-F99  F40-F48    NaN    NaN    NaN   \n",
       "210      F41  F01-F99  F40-F48    NaN    NaN    NaN   \n",
       "211      F42  F01-F99  F40-F48    NaN    NaN    NaN   \n",
       "212      F43  F01-F99  F40-F48    NaN    NaN    NaN   \n",
       "213      F44  F01-F99  F40-F48    NaN    NaN    NaN   \n",
       "214      F45  F01-F99  F40-F48    NaN    NaN    NaN   \n",
       "215      F48  F01-F99  F40-F48    NaN    NaN    NaN   \n",
       "216  N30-N39  N00-N99      NaN    NaN    NaN    NaN   \n",
       "217  N40-N51  N00-N99      NaN    NaN    NaN    NaN   \n",
       "218  N60-N64  N00-N99      NaN    NaN    NaN    NaN   \n",
       "219  N70-N77  N00-N99      NaN    NaN    NaN    NaN   \n",
       "\n",
       "                                           description  level        source  \n",
       "200                            Trastornos de la órbita      2  icdcode.info  \n",
       "201  Trastornos del aparato lagrimal y de la órbita...      2  icdcode.info  \n",
       "202  Trastornos del sistema digestivo del feto y de...      1  icdcode.info  \n",
       "203  Afecciones asociadas con la regulación tegumen...      1  icdcode.info  \n",
       "204  Otros trastornos originados en el período peri...      1  icdcode.info  \n",
       "205    Complicaciones del trabajo de parto y del parto      1  icdcode.info  \n",
       "206                                              Parto      1  icdcode.info  \n",
       "207  Complicaciones principalmente relacionadas con...      1  icdcode.info  \n",
       "208  Otras afecciones obstétricas no clasificadas e...      1  icdcode.info  \n",
       "209                     Trastornos fóbicos de ansiedad      2  icdcode.info  \n",
       "210                       Otros trastornos de ansiedad      2  icdcode.info  \n",
       "211                      Trastorno obsesivo-compulsivo      2  icdcode.info  \n",
       "212  Reacción al estrés grave y trastornos de adapt...      2  icdcode.info  \n",
       "213            Trastornos disociativos [de conversión]      2  icdcode.info  \n",
       "214                            Trastornos somatomorfos      2  icdcode.info  \n",
       "215                        Otros trastornos neuróticos      2  icdcode.info  \n",
       "216            Otras enfermedades del sistema urinario      1  icdcode.info  \n",
       "217   Enfermedades de los órganos genitales masculinos      1  icdcode.info  \n",
       "218                              Trastornos de la mama      1  icdcode.info  \n",
       "219  Enfermedades inflamatorias de los órganos pélv...      1  icdcode.info  "
      ]
     },
     "execution_count": 13,
     "metadata": {},
     "output_type": "execute_result"
    }
   ],
   "source": [
    "cie[200:220]"
   ]
  },
  {
   "cell_type": "code",
   "execution_count": 14,
   "id": "fda14786",
   "metadata": {},
   "outputs": [],
   "source": [
    "# Removing Disease Codes from disease description\n",
    "cie_list1 = [re.sub(r' \\([A-Z]\\d\\d.*', '', disease) for disease in cie.description.to_list()]"
   ]
  },
  {
   "cell_type": "code",
   "execution_count": 15,
   "id": "0a11f4a8",
   "metadata": {},
   "outputs": [],
   "source": [
    "# Generalisation of disease names (e.g., \"Other anxiety disorders -> \"anxiety disorders\")\n",
    "cie_list2 = [re.sub(r'^Otr[oa]s ', '', disease) for disease in cie_list1]"
   ]
  },
  {
   "cell_type": "code",
   "execution_count": 16,
   "id": "9d72af95",
   "metadata": {},
   "outputs": [],
   "source": [
    "# Normalization of disease name\n",
    "cie_list3 = [normalize_caseless(disease) for disease in cie_list2] "
   ]
  },
  {
   "cell_type": "code",
   "execution_count": 17,
   "id": "e827d1a8",
   "metadata": {},
   "outputs": [
    {
     "data": {
      "text/plain": [
       "14498"
      ]
     },
     "execution_count": 17,
     "metadata": {},
     "output_type": "execute_result"
    }
   ],
   "source": [
    "len(cie_list3)"
   ]
  },
  {
   "cell_type": "code",
   "execution_count": 18,
   "id": "84ca2391",
   "metadata": {},
   "outputs": [],
   "source": [
    "# Prepare final list: merge two original lists,  remove possible duplicates and sort in alphabetical order\n",
    "diseases = sorted(set(diseases_from_tweets + cie_list3))"
   ]
  },
  {
   "cell_type": "code",
   "execution_count": 19,
   "id": "88688d7b",
   "metadata": {},
   "outputs": [],
   "source": [
    "diseases.remove('')"
   ]
  },
  {
   "cell_type": "code",
   "execution_count": 20,
   "id": "efed5d32",
   "metadata": {},
   "outputs": [
    {
     "data": {
      "text/plain": [
       "18417"
      ]
     },
     "execution_count": 20,
     "metadata": {},
     "output_type": "execute_result"
    }
   ],
   "source": [
    "len(diseases)"
   ]
  },
  {
   "cell_type": "code",
   "execution_count": 21,
   "id": "396d5e1e",
   "metadata": {},
   "outputs": [
    {
     "data": {
      "text/plain": [
       "['corrosión del tronco, de segundo grado',\n",
       " 'ocupante de automovil lesionado por colision con objeto fijo o estacionado: conductor lesionado en accidente no de transito',\n",
       " 'ocupante de camioneta o furgoneta lesionado por colision con peaton o animal: ocupante no especificado de camioneta o furgoneta, lesionado en accidente de transito',\n",
       " 'intento suicida',\n",
       " 'exposición a fuerzas mecánicas animadas',\n",
       " 'trastornos no especificados del oído y de la apófisis mastoides, consecutivos a procedimientos',\n",
       " 'ocupante de vehiculo de transporte pesado lesionado por colision con otros vehiculos sin motor: persona lesionada al subir o bajar del vehiculo',\n",
       " 'parálisis cerebral mixta',\n",
       " 'lunares',\n",
       " 'síndrome de dolor regional complejo',\n",
       " 'hipospadias perineal',\n",
       " 'trastornos de la refracción',\n",
       " 'autistas sin discapacidad intelectual',\n",
       " 'afonía',\n",
       " 'malformaciones congénitas de la córnea',\n",
       " 'envenenamiento accidental por, y exposicion a otros productos quimicos y sustancias nocivas, y los no especificados: granja',\n",
       " 'alergia al polvo',\n",
       " 'migrañas',\n",
       " 'peritonitis por clamidias',\n",
       " 'agresion con humo, fuego y llamas: escuelas, otras instituciones y areas administrativas publicas']"
      ]
     },
     "execution_count": 21,
     "metadata": {},
     "output_type": "execute_result"
    }
   ],
   "source": [
    "random.sample(diseases, 20)"
   ]
  },
  {
   "cell_type": "code",
   "execution_count": 22,
   "id": "325fdba3",
   "metadata": {},
   "outputs": [],
   "source": [
    "# Save disease name as TXT file (one disease name per line)\n",
    "with open('Output/enfermedades.txt', 'w') as file:\n",
    "    for item in diseases:\n",
    "        file.write(f'{item}\\n')"
   ]
  },
  {
   "cell_type": "code",
   "execution_count": 23,
   "id": "7eHrNdYRtl-K",
   "metadata": {
    "colab": {
     "base_uri": "https://localhost:8080/",
     "height": 295
    },
    "executionInfo": {
     "elapsed": 30,
     "status": "ok",
     "timestamp": 1660548521833,
     "user": {
      "displayName": "Konstantin KUTEYKIN TEPLYAKOV",
      "userId": "04703267818047594055"
     },
     "user_tz": -60
    },
    "id": "7eHrNdYRtl-K",
    "outputId": "5d7a7cff-f246-491c-9d81-95dffd45ad09",
    "scrolled": true
   },
   "outputs": [
    {
     "data": {
      "image/png": "[encoded data removed]",
      "text/plain": [
       "<Figure size 432x288 with 1 Axes>"
      ]
     },
     "metadata": {
      "needs_background": "light"
     },
     "output_type": "display_data"
    }
   ],
   "source": [
    "# Plot number of words in disease names\n",
    "\n",
    "plt.hist([len(disease.split()) for disease in diseases], bins=20)\n",
    "plt.title('Words per disease name')\n",
    "plt.xlabel('words per disease name')\n",
    "plt.show()"
   ]
  },
  {
   "cell_type": "code",
   "execution_count": 24,
   "id": "30f7c67a",
   "metadata": {
    "colab": {
     "base_uri": "https://localhost:8080/",
     "height": 36
    },
    "executionInfo": {
     "elapsed": 21,
     "status": "ok",
     "timestamp": 1660548525789,
     "user": {
      "displayName": "Konstantin KUTEYKIN TEPLYAKOV",
      "userId": "04703267818047594055"
     },
     "user_tz": -60
    },
    "id": "30f7c67a",
    "outputId": "6a0f6714-0d1c-42d0-e946-5108e6e619e4"
   },
   "outputs": [
    {
     "data": {
      "text/plain": [
       "'envenenamiento autoinfligido intencionalmente por, y exposicion a drogas antiepilepticas, sedantes, hipnoticas, antiparkinsonianas y psicotropicas, no clasificadas en otra parte: escuelas, otras instituciones y areas administrativas publicas'"
      ]
     },
     "execution_count": 24,
     "metadata": {},
     "output_type": "execute_result"
    }
   ],
   "source": [
    "# The longest disease name\n",
    "max(diseases, key=len)"
   ]
  },
  {
   "cell_type": "markdown",
   "id": "8927826c",
   "metadata": {
    "id": "8927826c"
   },
   "source": [
    "### NER tags annotation"
   ]
  },
  {
   "cell_type": "code",
   "execution_count": 25,
   "id": "9170aa07",
   "metadata": {},
   "outputs": [],
   "source": [
    "# Create pattern dictionary for model training\n",
    "\n",
    "patterns = [{'label': 'DISEASE', 'pattern': item} for item in diseases]"
   ]
  },
  {
   "cell_type": "code",
   "execution_count": 26,
   "id": "499a333a",
   "metadata": {},
   "outputs": [
    {
     "data": {
      "text/plain": [
       "[{'label': 'DISEASE', 'pattern': 'abcesos intrabdominales'},\n",
       " {'label': 'DISEASE', 'pattern': 'abdomen agudo'},\n",
       " {'label': 'DISEASE', 'pattern': 'abertura artificial, no especificada'},\n",
       " {'label': 'DISEASE', 'pattern': 'aberturas artificiales'},\n",
       " {'label': 'DISEASE', 'pattern': 'abortadora habitual'}]"
      ]
     },
     "execution_count": 26,
     "metadata": {},
     "output_type": "execute_result"
    }
   ],
   "source": [
    "patterns[:5]"
   ]
  },
  {
   "cell_type": "code",
   "execution_count": 27,
   "id": "4f177b9f",
   "metadata": {
    "executionInfo": {
     "elapsed": 468,
     "status": "ok",
     "timestamp": 1660547694768,
     "user": {
      "displayName": "Konstantin KUTEYKIN TEPLYAKOV",
      "userId": "04703267818047594055"
     },
     "user_tz": -60
    },
    "id": "4f177b9f"
   },
   "outputs": [],
   "source": [
    "import spacy\n",
    "nlp = spacy.load(\"es_core_news_sm\") # load NLP model for Spanish"
   ]
  },
  {
   "cell_type": "code",
   "execution_count": 28,
   "id": "50f91b1d",
   "metadata": {},
   "outputs": [],
   "source": [
    "# Create new blank model using EntityRuler\n",
    "\n",
    "from spacy.lang.es import Spanish\n",
    "custom_nlp = Spanish()\n",
    "ruler = custom_nlp.add_pipe(\"entity_ruler\")\n",
    "ruler.add_patterns(patterns)\n",
    "ruler.to_disk('disease-ruler')"
   ]
  },
  {
   "cell_type": "code",
   "execution_count": 29,
   "id": "15a723d7-41e3-43d9-a34c-91e89ab8215d",
   "metadata": {},
   "outputs": [
    {
     "data": {
      "text/plain": [
       "<spacy.pipeline.entityruler.EntityRuler at 0x7fed0e9ca140>"
      ]
     },
     "execution_count": 29,
     "metadata": {},
     "output_type": "execute_result"
    }
   ],
   "source": [
    "ruler"
   ]
  },
  {
   "cell_type": "code",
   "execution_count": 30,
   "id": "08a812ab",
   "metadata": {},
   "outputs": [
    {
     "name": "stderr",
     "output_type": "stream",
     "text": [
      "/home/drphyl/anaconda3/lib/python3.9/site-packages/spacy/util.py:865: UserWarning: [W095] Model 'es_pipeline' (0.0.0) was trained with spaCy v3.3 and may not be 100% compatible with the current version (3.4.0). If you see errors or degraded performance, download a newer compatible model or retrain your custom model with the current spaCy version. For more details and available updates, run: python -m spacy validate\n",
      "  warnings.warn(warn_msg)\n"
     ]
    },
    {
     "data": {
      "text/plain": [
       "<spacy.pipeline.entityruler.EntityRuler at 0x7fed0da1a3c0>"
      ]
     },
     "execution_count": 30,
     "metadata": {},
     "output_type": "execute_result"
    }
   ],
   "source": [
    "# Load saved custom NER model and add it as new pipe to standard model\n",
    "loaded_ruler = spacy.load('disease-ruler', vocab=nlp.vocab)\n",
    "nlp.add_pipe(\"entity_ruler\", source=loaded_ruler, before=\"ner\")"
   ]
  },
  {
   "cell_type": "code",
   "execution_count": 31,
   "id": "d970c5b5-751a-41e2-ae32-90d63991faee",
   "metadata": {},
   "outputs": [
    {
     "data": {
      "text/plain": [
       "['tok2vec',\n",
       " 'morphologizer',\n",
       " 'parser',\n",
       " 'attribute_ruler',\n",
       " 'lemmatizer',\n",
       " 'entity_ruler',\n",
       " 'ner']"
      ]
     },
     "execution_count": 31,
     "metadata": {},
     "output_type": "execute_result"
    }
   ],
   "source": [
    "nlp.pipe_names"
   ]
  },
  {
   "cell_type": "code",
   "execution_count": 32,
   "id": "t-Pu0Fb2jZSn",
   "metadata": {
    "executionInfo": {
     "elapsed": 387,
     "status": "ok",
     "timestamp": 1660547797144,
     "user": {
      "displayName": "Konstantin KUTEYKIN TEPLYAKOV",
      "userId": "04703267818047594055"
     },
     "user_tz": -60
    },
    "id": "t-Pu0Fb2jZSn"
   },
   "outputs": [],
   "source": [
    "# Examples of input and desired output for testing\n",
    "\n",
    "input_examples = [\n",
    "    [\n",
    "        'Estoy enferma y dejaron de pagarme mi sueldo bien ahi sindicato de comercio #carlosperez #endometriosis #fibromialgia #artritis #soycomercio\\n\\n\\n',\n",
    "        ['Estoy', 'enferma', 'y', 'dejaron', 'de', 'pagarme', 'mi', 'sueldo', 'bien', 'ahi', 'sindicato', 'de', 'comercio', '#', 'carlosperez', '#', 'endometriosis', '#', 'fibromialgia', '#', 'artritis', '#', 'soycomercio', '\\n\\n\\n'],\n",
    "        ['O', 'O', 'O', 'O', 'O', 'O', 'O', 'O', 'O', 'O', 'O', 'O', 'O', 'O', 'O', 'O', 'B', 'O', 'B', 'O', 'B', 'O', 'O', 'O']\n",
    "    ],\n",
    "   \n",
    "    \n",
    "    [\n",
    "        '¿Qué probabilidad hay de no pillar la gripe si me paso la vida en el hospital?\\n\\n\\n\\n\\n\\n',\n",
    "        ['¿', 'Qué', 'probabilidad', 'hay', 'de', 'no', 'pillar', 'la', 'gripe', 'si', 'me', 'paso', 'la', 'vida', 'en', 'el', 'hospital', '?', '\\n\\n\\n\\n\\n\\n'],\n",
    "        ['O', 'O', 'O', 'O', 'O', 'O', 'O', 'O', 'B', 'O', 'O', 'O', 'O', 'O', 'O', 'O', 'O', 'O', 'O']\n",
    "    ],\n",
    "\n",
    "    \n",
    "    [\n",
    "         'Empezamos a emparejar el marcador covid-19 https://t.co/dGEUtRuxAo\\n\\n\\n\\n\\n\\n',\n",
    "         ['Empezamos', 'a', 'emparejar', 'el', 'marcador', 'covid-19', 'https://t.co/dGEUtRuxAo', '\\n\\n\\n\\n\\n\\n'],\n",
    "         ['O', 'O', 'O', 'O', 'O', 'B', 'O', 'O']\n",
    "    ],\n",
    "         \n",
    "       \n",
    "    [\n",
    "        'y me dio un ataque de ansiedad\\n\\n\\n\\n\\n\\n',\n",
    "        ['y', 'me', 'dio', 'un', 'ataque', 'de', 'ansiedad', '\\n\\n\\n\\n\\n\\n'],\n",
    "        ['O', 'O', 'O', 'O', 'B', 'I', 'I', 'O']\n",
    "    ]\n",
    "]"
   ]
  },
  {
   "cell_type": "code",
   "execution_count": 33,
   "id": "791d58a1",
   "metadata": {
    "executionInfo": {
     "elapsed": 357,
     "status": "ok",
     "timestamp": 1660548069965,
     "user": {
      "displayName": "Konstantin KUTEYKIN TEPLYAKOV",
      "userId": "04703267818047594055"
     },
     "user_tz": -60
    },
    "id": "791d58a1"
   },
   "outputs": [],
   "source": [
    "# Function to get Tokens and corresponding IOB annotations for Diseases ( (ignoring all other entities except DISEASES)\n",
    "\n",
    "def tokens_IOB_tag(text):\n",
    "    doc = nlp(text, disable='ner')       # use CUSTOM 'entity_ruler' model instead of original 'ner'\n",
    "    tokens = [ent.text for ent in doc] \n",
    "    ner_tags = [ent.ent_iob_ for ent in doc]\n",
    "    return tokens, ner_tags"
   ]
  },
  {
   "cell_type": "code",
   "execution_count": 34,
   "id": "d380fb0b",
   "metadata": {},
   "outputs": [],
   "source": [
    "# Function to recognise all entities (both standard and custom)\n",
    "\n",
    "def NER(text):\n",
    "    doc = nlp(text)\n",
    "    for entity in doc.ents:\n",
    "        print(entity.text, entity.label_)"
   ]
  },
  {
   "cell_type": "code",
   "execution_count": 35,
   "id": "30c6a42b",
   "metadata": {},
   "outputs": [],
   "source": [
    "text = \"¿Qué probabilidad hay de no pillar la gripe si me paso la vida en el hospital ?\\n\\n\\n\\n\\n\""
   ]
  },
  {
   "cell_type": "code",
   "execution_count": 36,
   "id": "1d38eb6a-a0fe-4d69-a1a0-7fcec969569a",
   "metadata": {},
   "outputs": [
    {
     "name": "stdout",
     "output_type": "stream",
     "text": [
      "gripe DISEASE\n",
      "hospital ? LOC\n"
     ]
    }
   ],
   "source": [
    "NER(text)"
   ]
  },
  {
   "cell_type": "code",
   "execution_count": 37,
   "id": "12f573cd",
   "metadata": {},
   "outputs": [
    {
     "name": "stdout",
     "output_type": "stream",
     "text": [
      "endometriosis DISEASE\n",
      "fibromialgia DISEASE\n",
      "artritis DISEASE\n",
      "===\n",
      "gripe DISEASE\n",
      "===\n",
      "covid-19 DISEASE\n",
      "===\n",
      "ataque de ansiedad DISEASE\n",
      "===\n"
     ]
    }
   ],
   "source": [
    "for example in input_examples:\n",
    "    NER(example[0])\n",
    "    print('===')"
   ]
  },
  {
   "cell_type": "code",
   "execution_count": 38,
   "id": "6ce72cf9",
   "metadata": {},
   "outputs": [
    {
     "name": "stdout",
     "output_type": "stream",
     "text": [
      "['Estoy', 'enferma', 'y', 'dejaron', 'de', 'pagarme', 'mi', 'sueldo', 'bien', 'ahi', 'sindicato', 'de', 'comercio', '#', 'carlosperez', '#', 'endometriosis', '#', 'fibromialgia', '#', 'artritis', '#', 'soycomercio', '\\n\\n\\n'] \n",
      " ['O', 'O', 'O', 'O', 'O', 'O', 'O', 'O', 'O', 'O', 'O', 'O', 'O', 'O', 'O', 'O', 'B', 'O', 'B', 'O', 'B', 'O', 'O', 'O'] \n",
      "\n",
      "\n",
      "['¿', 'Qué', 'probabilidad', 'hay', 'de', 'no', 'pillar', 'la', 'gripe', 'si', 'me', 'paso', 'la', 'vida', 'en', 'el', 'hospital', '?', '\\n\\n\\n\\n\\n\\n'] \n",
      " ['O', 'O', 'O', 'O', 'O', 'O', 'O', 'O', 'B', 'O', 'O', 'O', 'O', 'O', 'O', 'O', 'O', 'O', 'O'] \n",
      "\n",
      "\n",
      "['Empezamos', 'a', 'emparejar', 'el', 'marcador', 'covid-19', 'https://t.co/dGEUtRuxAo', '\\n\\n\\n\\n\\n\\n'] \n",
      " ['O', 'O', 'O', 'O', 'O', 'B', 'O', 'O'] \n",
      "\n",
      "\n",
      "['y', 'me', 'dio', 'un', 'ataque', 'de', 'ansiedad', '\\n\\n\\n\\n\\n\\n'] \n",
      " ['O', 'O', 'O', 'O', 'B', 'I', 'I', 'O'] \n",
      "\n",
      "\n"
     ]
    }
   ],
   "source": [
    "for example in input_examples:\n",
    "    tokens, ner_tags = tokens_IOB_tag(example[0])\n",
    "    print(tokens, '\\n', ner_tags, '\\n\\n')"
   ]
  },
  {
   "cell_type": "code",
   "execution_count": 39,
   "id": "df4af2c9",
   "metadata": {
    "executionInfo": {
     "elapsed": 410,
     "status": "ok",
     "timestamp": 1660548178500,
     "user": {
      "displayName": "Konstantin KUTEYKIN TEPLYAKOV",
      "userId": "04703267818047594055"
     },
     "user_tz": -60
    },
    "id": "df4af2c9"
   },
   "outputs": [
    {
     "name": "stdout",
     "output_type": "stream",
     "text": [
      "* Example 1 *\n",
      "Tokens CORRECT\n",
      "NER tags CORRECT\n",
      "\n",
      "\n",
      "* Example 2 *\n",
      "Tokens CORRECT\n",
      "NER tags CORRECT\n",
      "\n",
      "\n",
      "* Example 3 *\n",
      "Tokens CORRECT\n",
      "NER tags CORRECT\n",
      "\n",
      "\n",
      "* Example 4 *\n",
      "Tokens CORRECT\n",
      "NER tags CORRECT\n",
      "\n",
      "\n"
     ]
    }
   ],
   "source": [
    "# Test for tokens_IOB_tag()\n",
    "\n",
    "for i, example in enumerate(input_examples):\n",
    "    print(f'* Example {i+1} *')\n",
    "    tokens, ner_tags = tokens_IOB_tag(example[0])\n",
    "    if tokens == example[1]:\n",
    "        print('Tokens CORRECT')\n",
    "    else:\n",
    "        print('Tokens WRONG')\n",
    "        print(f'Calculated: {tokens}\\nOriginal:   {example[1]}\\n')\n",
    "        \n",
    "    if ner_tags == example[2]:\n",
    "        print('NER tags CORRECT\\n\\n')\n",
    "    else:\n",
    "        print('NER tags WRONG')\n",
    "        print(f'Calculated: {ner_tags}\\nOriginal:   {example[2]}\\n\\n')"
   ]
  },
  {
   "cell_type": "code",
   "execution_count": null,
   "id": "29759870",
   "metadata": {
    "id": "29759870"
   },
   "outputs": [],
   "source": []
  },
  {
   "cell_type": "markdown",
   "id": "8aab8625",
   "metadata": {
    "id": "8aab8625"
   },
   "source": [
    "## Create annotated dataset from tweet files"
   ]
  },
  {
   "cell_type": "code",
   "execution_count": 40,
   "id": "toN_w9kwdQJH",
   "metadata": {
    "colab": {
     "base_uri": "https://localhost:8080/"
    },
    "executionInfo": {
     "elapsed": 441,
     "status": "ok",
     "timestamp": 1660548692707,
     "user": {
      "displayName": "Konstantin KUTEYKIN TEPLYAKOV",
      "userId": "04703267818047594055"
     },
     "user_tz": -60
    },
    "id": "toN_w9kwdQJH",
    "outputId": "2d0330f6-4996-488f-f446-2cdafd5a5f3f"
   },
   "outputs": [
    {
     "data": {
      "text/plain": [
       "5000"
      ]
     },
     "execution_count": 40,
     "metadata": {},
     "output_type": "execute_result"
    }
   ],
   "source": [
    "filelist = [file for file in Path(training_dir).iterdir() if file.glob('*.txt')]\n",
    "len(filelist)"
   ]
  },
  {
   "cell_type": "code",
   "execution_count": 41,
   "id": "ae9346dd",
   "metadata": {
    "executionInfo": {
     "elapsed": 125203,
     "status": "ok",
     "timestamp": 1660548818449,
     "user": {
      "displayName": "Konstantin KUTEYKIN TEPLYAKOV",
      "userId": "04703267818047594055"
     },
     "user_tz": -60
    },
    "id": "ae9346dd"
   },
   "outputs": [],
   "source": [
    "# Preparation of output dataset with two columns:\n",
    "# tokens: array of tokens of the tweet; \n",
    "# ner_tags: array of tag annotations (I, O, B).\n",
    "\n",
    "tokens_tags_list = []\n",
    "tweet_len = []\n",
    "for file in filelist:\n",
    "    tweet = file.read_text(encoding=\"UTF-8\")\n",
    "    tokens_tags_list.append(tokens_IOB_tag(tweet))\n",
    "    tweet_len.append(len(tweet))"
   ]
  },
  {
   "cell_type": "code",
   "execution_count": 42,
   "id": "6dc327b4",
   "metadata": {
    "colab": {
     "base_uri": "https://localhost:8080/"
    },
    "executionInfo": {
     "elapsed": 489,
     "status": "ok",
     "timestamp": 1660548825818,
     "user": {
      "displayName": "Konstantin KUTEYKIN TEPLYAKOV",
      "userId": "04703267818047594055"
     },
     "user_tz": -60
    },
    "id": "6dc327b4",
    "outputId": "1b43509c-08af-4b41-eb75-c361de6f4b55"
   },
   "outputs": [
    {
     "data": {
      "text/plain": [
       "331"
      ]
     },
     "execution_count": 42,
     "metadata": {},
     "output_type": "execute_result"
    }
   ],
   "source": [
    "max(tweet_len)"
   ]
  },
  {
   "cell_type": "code",
   "execution_count": 43,
   "id": "bbc3ee3d",
   "metadata": {
    "colab": {
     "base_uri": "https://localhost:8080/",
     "height": 295
    },
    "executionInfo": {
     "elapsed": 511,
     "status": "ok",
     "timestamp": 1660548828429,
     "user": {
      "displayName": "Konstantin KUTEYKIN TEPLYAKOV",
      "userId": "04703267818047594055"
     },
     "user_tz": -60
    },
    "id": "bbc3ee3d",
    "outputId": "0241b4cb-5d9b-45c8-ffab-956a90f5280c"
   },
   "outputs": [
    {
     "data": {
      "image/png": "[encoded data removed]",
      "text/plain": [
       "<Figure size 432x288 with 1 Axes>"
      ]
     },
     "metadata": {
      "needs_background": "light"
     },
     "output_type": "display_data"
    }
   ],
   "source": [
    "# Plot Lenght of tweets\n",
    "\n",
    "plt.hist(tweet_len, bins=25)\n",
    "plt.title('Tweet lenght')\n",
    "plt.xlabel('characters per tweet')\n",
    "plt.show()"
   ]
  },
  {
   "cell_type": "code",
   "execution_count": 44,
   "id": "d7483c45",
   "metadata": {
    "colab": {
     "base_uri": "https://localhost:8080/",
     "height": 424
    },
    "executionInfo": {
     "elapsed": 414,
     "status": "ok",
     "timestamp": 1660548834398,
     "user": {
      "displayName": "Konstantin KUTEYKIN TEPLYAKOV",
      "userId": "04703267818047594055"
     },
     "user_tz": -60
    },
    "id": "d7483c45",
    "outputId": "d61cf2a8-abe4-4db9-8a7f-74c79290a593"
   },
   "outputs": [
    {
     "data": {
      "text/html": [
       "<div>\n",
       "<style scoped>\n",
       "    .dataframe tbody tr th:only-of-type {\n",
       "        vertical-align: middle;\n",
       "    }\n",
       "\n",
       "    .dataframe tbody tr th {\n",
       "        vertical-align: top;\n",
       "    }\n",
       "\n",
       "    .dataframe thead th {\n",
       "        text-align: right;\n",
       "    }\n",
       "</style>\n",
       "<table border=\"1\" class=\"dataframe\">\n",
       "  <thead>\n",
       "    <tr style=\"text-align: right;\">\n",
       "      <th></th>\n",
       "      <th>tokens</th>\n",
       "      <th>ner_tags</th>\n",
       "    </tr>\n",
       "  </thead>\n",
       "  <tbody>\n",
       "    <tr>\n",
       "      <th>0</th>\n",
       "      <td>[CON, LO, CUAL, PARA, CUANDO, LES, DAN, POR, C...</td>\n",
       "      <td>[O, O, O, O, O, O, O, O, O, O, O, O, O, O, O, ...</td>\n",
       "    </tr>\n",
       "    <tr>\n",
       "      <th>1</th>\n",
       "      <td>[AUTISMO, +, COVID, 19, \\n, INSAR, ha, puesto,...</td>\n",
       "      <td>[O, O, O, O, O, O, O, O, O, O, O, O, O, O, O, ...</td>\n",
       "    </tr>\n",
       "    <tr>\n",
       "      <th>2</th>\n",
       "      <td>[La, muerte, por, asfixia, por, atragantamient...</td>\n",
       "      <td>[O, B, O, B, I, I, O, O, O, O, O, O, O, O, O, ...</td>\n",
       "    </tr>\n",
       "    <tr>\n",
       "      <th>3</th>\n",
       "      <td>[y, ,, hago, spoiler, ,, desgraciadamente, seg...</td>\n",
       "      <td>[O, O, O, O, O, O, O, O, O, O, O, O, O, O, O, ...</td>\n",
       "    </tr>\n",
       "    <tr>\n",
       "      <th>4</th>\n",
       "      <td>[El, calor, me, da, ansiedad, ,, cuando, digo,...</td>\n",
       "      <td>[O, O, O, O, B, O, O, O, B, O, O, B, O, O]</td>\n",
       "    </tr>\n",
       "    <tr>\n",
       "      <th>...</th>\n",
       "      <td>...</td>\n",
       "      <td>...</td>\n",
       "    </tr>\n",
       "    <tr>\n",
       "      <th>4995</th>\n",
       "      <td>[Si, tienes, síntomas, d, gripe, descansa, ,, ...</td>\n",
       "      <td>[O, O, O, O, B, O, O, O, O, O, O, O, O, O, O, ...</td>\n",
       "    </tr>\n",
       "    <tr>\n",
       "      <th>4996</th>\n",
       "      <td>[💜, ¡, Feliz, Día, Internacional, de, la, Muje...</td>\n",
       "      <td>[O, O, O, O, O, O, O, O, O, O, O, O, O, O, O, ...</td>\n",
       "    </tr>\n",
       "    <tr>\n",
       "      <th>4997</th>\n",
       "      <td>[Mi, hermano, padece, una, enfermedad, neuroló...</td>\n",
       "      <td>[O, O, O, O, B, O, O, O, O, O, B, O, O, O, O, ...</td>\n",
       "    </tr>\n",
       "    <tr>\n",
       "      <th>4998</th>\n",
       "      <td>[Hace, 17, años, mi, vida, cambió, ..., \\n, Y,...</td>\n",
       "      <td>[O, O, O, O, O, O, O, O, O, O, O, O, O, O, O, ...</td>\n",
       "    </tr>\n",
       "    <tr>\n",
       "      <th>4999</th>\n",
       "      <td>[La, otosclerosis, es, una, patología, 🤕, audi...</td>\n",
       "      <td>[O, B, O, O, O, O, O, O, O, O, O, O, O, O, O, ...</td>\n",
       "    </tr>\n",
       "  </tbody>\n",
       "</table>\n",
       "<p>5000 rows × 2 columns</p>\n",
       "</div>"
      ],
      "text/plain": [
       "                                                 tokens  \\\n",
       "0     [CON, LO, CUAL, PARA, CUANDO, LES, DAN, POR, C...   \n",
       "1     [AUTISMO, +, COVID, 19, \\n, INSAR, ha, puesto,...   \n",
       "2     [La, muerte, por, asfixia, por, atragantamient...   \n",
       "3     [y, ,, hago, spoiler, ,, desgraciadamente, seg...   \n",
       "4     [El, calor, me, da, ansiedad, ,, cuando, digo,...   \n",
       "...                                                 ...   \n",
       "4995  [Si, tienes, síntomas, d, gripe, descansa, ,, ...   \n",
       "4996  [💜, ¡, Feliz, Día, Internacional, de, la, Muje...   \n",
       "4997  [Mi, hermano, padece, una, enfermedad, neuroló...   \n",
       "4998  [Hace, 17, años, mi, vida, cambió, ..., \\n, Y,...   \n",
       "4999  [La, otosclerosis, es, una, patología, 🤕, audi...   \n",
       "\n",
       "                                               ner_tags  \n",
       "0     [O, O, O, O, O, O, O, O, O, O, O, O, O, O, O, ...  \n",
       "1     [O, O, O, O, O, O, O, O, O, O, O, O, O, O, O, ...  \n",
       "2     [O, B, O, B, I, I, O, O, O, O, O, O, O, O, O, ...  \n",
       "3     [O, O, O, O, O, O, O, O, O, O, O, O, O, O, O, ...  \n",
       "4            [O, O, O, O, B, O, O, O, B, O, O, B, O, O]  \n",
       "...                                                 ...  \n",
       "4995  [O, O, O, O, B, O, O, O, O, O, O, O, O, O, O, ...  \n",
       "4996  [O, O, O, O, O, O, O, O, O, O, O, O, O, O, O, ...  \n",
       "4997  [O, O, O, O, B, O, O, O, O, O, B, O, O, O, O, ...  \n",
       "4998  [O, O, O, O, O, O, O, O, O, O, O, O, O, O, O, ...  \n",
       "4999  [O, B, O, O, O, O, O, O, O, O, O, O, O, O, O, ...  \n",
       "\n",
       "[5000 rows x 2 columns]"
      ]
     },
     "execution_count": 44,
     "metadata": {},
     "output_type": "execute_result"
    }
   ],
   "source": [
    "annotated_df = pd.DataFrame(tokens_tags_list, columns = ['tokens', 'ner_tags'])\n",
    "annotated_df"
   ]
  },
  {
   "cell_type": "code",
   "execution_count": 45,
   "id": "c814fd83",
   "metadata": {
    "colab": {
     "base_uri": "https://localhost:8080/"
    },
    "executionInfo": {
     "elapsed": 504,
     "status": "ok",
     "timestamp": 1660549043129,
     "user": {
      "displayName": "Konstantin KUTEYKIN TEPLYAKOV",
      "userId": "04703267818047594055"
     },
     "user_tz": -60
    },
    "id": "c814fd83",
    "outputId": "e95fc4f3-e434-48d7-f839-7f9ea312d6f1"
   },
   "outputs": [
    {
     "name": "stdout",
     "output_type": "stream",
     "text": [
      "['Una', 'niña', 'víctima', 'de', 'maltrato', 'de', 'quienes', 'están', 'llamados', 'a', 'cuidarla', '.', 'La', 'muerte', 'fue', 'el', 'fin', 'al', 'dolor', ',', 'pero', 'se', 'fue', 'sin', 'tener', 'respuesta', 'a', 'su', 'pregunta', '.', '\\n', '¿', 'por', 'qué', 'mamá', 'no', 'me', 'quiere', '?', '💔', '\\n', '@justiciaPPaula', ' ', '#', 'JusticiaParaPaula', 'https://t.co/cE95Q6uV08', '\\n\\n\\n\\n\\n\\n']\n"
     ]
    }
   ],
   "source": [
    "print(annotated_df.iloc[15][0])"
   ]
  },
  {
   "cell_type": "code",
   "execution_count": 46,
   "id": "26f4e629",
   "metadata": {},
   "outputs": [],
   "source": [
    "# Saving of token list and Ner_tags to CSV file\n",
    "annotated_df.to_csv('Output/annotated_diseases.tsv', index=None,  encoding='UTF-8', sep='\\t')"
   ]
  },
  {
   "cell_type": "code",
   "execution_count": null,
   "id": "eb139d6a",
   "metadata": {},
   "outputs": [],
   "source": []
  }
 ],
 "metadata": {
  "colab": {
   "collapsed_sections": [],
   "name": "Kuteykin_Fuji_Exercise_task1.ipynb",
   "provenance": []
  },
  "kernelspec": {
   "display_name": "Python 3 (ipykernel)",
   "language": "python",
   "name": "python3"
  },
  "language_info": {
   "codemirror_mode": {
    "name": "ipython",
    "version": 3
   },
   "file_extension": ".py",
   "mimetype": "text/x-python",
   "name": "python",
   "nbconvert_exporter": "python",
   "pygments_lexer": "ipython3",
   "version": "3.9.12"
  }
 },
 "nbformat": 4,
 "nbformat_minor": 5
}
