{
 "cells": [
  {
   "cell_type": "markdown",
   "id": "6cdb9724-bc78-470c-9bee-37a3c7bfbe1b",
   "metadata": {},
   "source": [
    "# Filtering swear words\n",
    "*(for user input as well as for AI suggestions)*"
   ]
  },
  {
   "cell_type": "markdown",
   "id": "17d769d0",
   "metadata": {},
   "source": [
    "## CONCLUSION:\n",
    "## 1. *\"cuss_inspect\"* is the best - very fast and reliable\n",
    "## 2. *\"alt-profanity-check\"* is good too.\n",
    "## 3. Other are very slow."
   ]
  },
  {
   "cell_type": "code",
   "execution_count": null,
   "id": "24c26cd5",
   "metadata": {},
   "outputs": [],
   "source": []
  },
  {
   "cell_type": "markdown",
   "id": "53627be5",
   "metadata": {},
   "source": [
    "### Loading dataset for testing purposes"
   ]
  },
  {
   "cell_type": "code",
   "execution_count": 1,
   "id": "9a96ad08-d910-4909-b050-9d06480a21ac",
   "metadata": {},
   "outputs": [],
   "source": [
    "import pandas as pd"
   ]
  },
  {
   "cell_type": "code",
   "execution_count": 2,
   "id": "860cac30-208a-4bf0-a50d-3e9b344aa783",
   "metadata": {},
   "outputs": [],
   "source": [
    "import numpy as np"
   ]
  },
  {
   "cell_type": "code",
   "execution_count": 3,
   "id": "b4541a07-f803-4677-a28d-99f6b2f4ba24",
   "metadata": {},
   "outputs": [
    {
     "data": {
      "text/html": [
       "<div>\n",
       "<style scoped>\n",
       "    .dataframe tbody tr th:only-of-type {\n",
       "        vertical-align: middle;\n",
       "    }\n",
       "\n",
       "    .dataframe tbody tr th {\n",
       "        vertical-align: top;\n",
       "    }\n",
       "\n",
       "    .dataframe thead th {\n",
       "        text-align: right;\n",
       "    }\n",
       "</style>\n",
       "<table border=\"1\" class=\"dataframe\">\n",
       "  <thead>\n",
       "    <tr style=\"text-align: right;\">\n",
       "      <th></th>\n",
       "      <th>is_offensive</th>\n",
       "      <th>text</th>\n",
       "    </tr>\n",
       "  </thead>\n",
       "  <tbody>\n",
       "    <tr>\n",
       "      <th>0</th>\n",
       "      <td>0</td>\n",
       "      <td>Then go to the village pump and suggest they c...</td>\n",
       "    </tr>\n",
       "    <tr>\n",
       "      <th>1</th>\n",
       "      <td>1</td>\n",
       "      <td>ANTI GREEK NATIONALIS -WIKIPEDIA \\n\\nHi Alexik...</td>\n",
       "    </tr>\n",
       "    <tr>\n",
       "      <th>2</th>\n",
       "      <td>1</td>\n",
       "      <td>Dis hoe wasnt dis violent on Lottery Ticket 😂😂</td>\n",
       "    </tr>\n",
       "    <tr>\n",
       "      <th>3</th>\n",
       "      <td>0</td>\n",
       "      <td>It is better for Atabay not helping the banned...</td>\n",
       "    </tr>\n",
       "    <tr>\n",
       "      <th>4</th>\n",
       "      <td>0</td>\n",
       "      <td>\"is in CamelCase.  \"\"SiCKO\"\" is not CamelCase,...</td>\n",
       "    </tr>\n",
       "    <tr>\n",
       "      <th>...</th>\n",
       "      <td>...</td>\n",
       "      <td>...</td>\n",
       "    </tr>\n",
       "    <tr>\n",
       "      <th>184349</th>\n",
       "      <td>0</td>\n",
       "      <td>Template:uw-vandalism2 &gt;  | Talk</td>\n",
       "    </tr>\n",
       "    <tr>\n",
       "      <th>184350</th>\n",
       "      <td>1</td>\n",
       "      <td>Regrets are for pussies. Shit happens, deal w...</td>\n",
       "    </tr>\n",
       "    <tr>\n",
       "      <th>184351</th>\n",
       "      <td>0</td>\n",
       "      <td>Could this possibly be the origin of popular g...</td>\n",
       "    </tr>\n",
       "    <tr>\n",
       "      <th>184352</th>\n",
       "      <td>0</td>\n",
       "      <td>\"Your article submission has been declined, an...</td>\n",
       "    </tr>\n",
       "    <tr>\n",
       "      <th>184353</th>\n",
       "      <td>0</td>\n",
       "      <td>.\\nEditors can not move articles except inside...</td>\n",
       "    </tr>\n",
       "  </tbody>\n",
       "</table>\n",
       "<p>184354 rows × 2 columns</p>\n",
       "</div>"
      ],
      "text/plain": [
       "        is_offensive                                               text\n",
       "0                  0  Then go to the village pump and suggest they c...\n",
       "1                  1  ANTI GREEK NATIONALIS -WIKIPEDIA \\n\\nHi Alexik...\n",
       "2                  1     Dis hoe wasnt dis violent on Lottery Ticket 😂😂\n",
       "3                  0  It is better for Atabay not helping the banned...\n",
       "4                  0  \"is in CamelCase.  \"\"SiCKO\"\" is not CamelCase,...\n",
       "...              ...                                                ...\n",
       "184349             0                   Template:uw-vandalism2 >  | Talk\n",
       "184350             1   Regrets are for pussies. Shit happens, deal w...\n",
       "184351             0  Could this possibly be the origin of popular g...\n",
       "184352             0  \"Your article submission has been declined, an...\n",
       "184353             0  .\\nEditors can not move articles except inside...\n",
       "\n",
       "[184354 rows x 2 columns]"
      ]
     },
     "execution_count": 3,
     "metadata": {},
     "output_type": "execute_result"
    }
   ],
   "source": [
    "# Loading training dataset\n",
    "\n",
    "df = pd.read_csv(\"profanity_dataset.csv\")\n",
    "df"
   ]
  },
  {
   "cell_type": "code",
   "execution_count": 4,
   "id": "32311a9d-3ad6-4b76-9c39-9e6f89b83ce1",
   "metadata": {},
   "outputs": [
    {
     "data": {
      "text/plain": [
       "0    147509\n",
       "1     36845\n",
       "Name: is_offensive, dtype: int64"
      ]
     },
     "execution_count": 4,
     "metadata": {},
     "output_type": "execute_result"
    }
   ],
   "source": [
    "# Analyse dataset imbalance\n",
    "\n",
    "df.is_offensive.value_counts()"
   ]
  },
  {
   "cell_type": "code",
   "execution_count": 5,
   "id": "487e33c3-00d8-41ae-b41c-6877822ef2fa",
   "metadata": {},
   "outputs": [
    {
     "data": {
      "text/plain": [
       "False    184350\n",
       "True          4\n",
       "Name: text, dtype: int64"
      ]
     },
     "execution_count": 5,
     "metadata": {},
     "output_type": "execute_result"
    }
   ],
   "source": [
    "df.text.isna().value_counts()"
   ]
  },
  {
   "cell_type": "code",
   "execution_count": 6,
   "id": "ef61b950-a9bd-4157-bbb0-26622d907303",
   "metadata": {},
   "outputs": [
    {
     "data": {
      "text/plain": [
       "False    184354\n",
       "Name: is_offensive, dtype: int64"
      ]
     },
     "execution_count": 6,
     "metadata": {},
     "output_type": "execute_result"
    }
   ],
   "source": [
    "df.is_offensive.isna().value_counts()"
   ]
  },
  {
   "cell_type": "code",
   "execution_count": 7,
   "id": "849816d8-fa92-479d-a922-10f53230c4fd",
   "metadata": {},
   "outputs": [],
   "source": [
    "df.dropna(inplace=True)"
   ]
  },
  {
   "cell_type": "code",
   "execution_count": 8,
   "id": "06b9598a-0d26-4e2e-a8b5-2414fae17fbb",
   "metadata": {},
   "outputs": [
    {
     "data": {
      "text/plain": [
       "False    184350\n",
       "Name: text, dtype: int64"
      ]
     },
     "execution_count": 8,
     "metadata": {},
     "output_type": "execute_result"
    }
   ],
   "source": [
    "df.text.isna().value_counts()"
   ]
  },
  {
   "cell_type": "code",
   "execution_count": 9,
   "id": "cffd1ddd-6345-4fe8-9bd2-0c61a41e9c8b",
   "metadata": {},
   "outputs": [],
   "source": [
    "df.to_csv(\"profanity_dataset_curated.csv\", index=False)"
   ]
  },
  {
   "cell_type": "code",
   "execution_count": 10,
   "id": "32cc843c-3f6a-476d-8fe8-97ee1c252c18",
   "metadata": {},
   "outputs": [],
   "source": [
    "prompt = 'Crap! What a stupid idea!'"
   ]
  },
  {
   "cell_type": "markdown",
   "id": "c0940e0f-b614-4452-b580-7fc8b164db78",
   "metadata": {},
   "source": [
    "## Test 1 : *alt-profanity-check* library (pretrained SVM model)"
   ]
  },
  {
   "cell_type": "code",
   "execution_count": 22,
   "id": "c5f600db-2058-4d32-abe7-cb6b5f54b718",
   "metadata": {},
   "outputs": [],
   "source": [
    "import profanity_check"
   ]
  },
  {
   "cell_type": "code",
   "execution_count": null,
   "id": "b47500c0-7bdf-40ab-9adc-697765a97d0f",
   "metadata": {},
   "outputs": [],
   "source": []
  },
  {
   "cell_type": "code",
   "execution_count": 23,
   "id": "a371bbe0-f9db-4b87-9828-37c88e0898a2",
   "metadata": {},
   "outputs": [
    {
     "data": {
      "text/plain": [
       "array([1])"
      ]
     },
     "execution_count": 23,
     "metadata": {},
     "output_type": "execute_result"
    }
   ],
   "source": [
    "profanity_check.predict([prompt])"
   ]
  },
  {
   "cell_type": "code",
   "execution_count": 24,
   "id": "4d73e086-5425-432c-b3b8-afdb1da1fa5e",
   "metadata": {},
   "outputs": [
    {
     "data": {
      "text/plain": [
       "array([0.99992007])"
      ]
     },
     "execution_count": 24,
     "metadata": {},
     "output_type": "execute_result"
    }
   ],
   "source": [
    "profanity_check.predict_prob([prompt])"
   ]
  },
  {
   "cell_type": "code",
   "execution_count": 25,
   "id": "6f4a39a7-b188-4d8d-b901-c2c9865e2e77",
   "metadata": {},
   "outputs": [],
   "source": [
    "df['predicted'] = df.text.apply(lambda x: profanity_check.predict([x])).astype(int)"
   ]
  },
  {
   "cell_type": "code",
   "execution_count": 26,
   "id": "58ea7d10-ec22-4a65-a1f1-269ed2e56fa7",
   "metadata": {},
   "outputs": [
    {
     "data": {
      "text/plain": [
       "False    184350\n",
       "Name: predicted, dtype: int64"
      ]
     },
     "execution_count": 26,
     "metadata": {},
     "output_type": "execute_result"
    }
   ],
   "source": [
    "df.predicted.isna().value_counts()"
   ]
  },
  {
   "cell_type": "code",
   "execution_count": 27,
   "id": "f7f44fbd-5bbc-4562-b106-91769bb29cc4",
   "metadata": {},
   "outputs": [],
   "source": [
    "df['profanity_proba'] = df.text.apply(lambda x: profanity_check.predict_prob([x])).astype(float)"
   ]
  },
  {
   "cell_type": "code",
   "execution_count": 28,
   "id": "9de09cb7-0128-4f31-8ed6-816e5abd1750",
   "metadata": {},
   "outputs": [
    {
     "data": {
      "text/plain": [
       "False    184350\n",
       "Name: profanity_proba, dtype: int64"
      ]
     },
     "execution_count": 28,
     "metadata": {},
     "output_type": "execute_result"
    }
   ],
   "source": [
    "df.profanity_proba.isna().value_counts()"
   ]
  },
  {
   "cell_type": "code",
   "execution_count": 29,
   "id": "78d9c0bb-7cba-4ae3-b69a-5fa9d08dbe23",
   "metadata": {},
   "outputs": [
    {
     "data": {
      "text/html": [
       "<div>\n",
       "<style scoped>\n",
       "    .dataframe tbody tr th:only-of-type {\n",
       "        vertical-align: middle;\n",
       "    }\n",
       "\n",
       "    .dataframe tbody tr th {\n",
       "        vertical-align: top;\n",
       "    }\n",
       "\n",
       "    .dataframe thead th {\n",
       "        text-align: right;\n",
       "    }\n",
       "</style>\n",
       "<table border=\"1\" class=\"dataframe\">\n",
       "  <thead>\n",
       "    <tr style=\"text-align: right;\">\n",
       "      <th></th>\n",
       "      <th>is_offensive</th>\n",
       "      <th>text</th>\n",
       "      <th>predicted_cuss</th>\n",
       "      <th>profanity_proba_cuss</th>\n",
       "      <th>predicted</th>\n",
       "      <th>profanity_proba</th>\n",
       "    </tr>\n",
       "  </thead>\n",
       "  <tbody>\n",
       "    <tr>\n",
       "      <th>0</th>\n",
       "      <td>0</td>\n",
       "      <td>Then go to the village pump and suggest they c...</td>\n",
       "      <td>0</td>\n",
       "      <td>0.03</td>\n",
       "      <td>0</td>\n",
       "      <td>0.009664</td>\n",
       "    </tr>\n",
       "    <tr>\n",
       "      <th>1</th>\n",
       "      <td>1</td>\n",
       "      <td>ANTI GREEK NATIONALIS -WIKIPEDIA \\n\\nHi Alexik...</td>\n",
       "      <td>0</td>\n",
       "      <td>0.13</td>\n",
       "      <td>0</td>\n",
       "      <td>0.248989</td>\n",
       "    </tr>\n",
       "    <tr>\n",
       "      <th>2</th>\n",
       "      <td>1</td>\n",
       "      <td>Dis hoe wasnt dis violent on Lottery Ticket 😂😂</td>\n",
       "      <td>1</td>\n",
       "      <td>0.84</td>\n",
       "      <td>1</td>\n",
       "      <td>0.867156</td>\n",
       "    </tr>\n",
       "    <tr>\n",
       "      <th>3</th>\n",
       "      <td>0</td>\n",
       "      <td>It is better for Atabay not helping the banned...</td>\n",
       "      <td>0</td>\n",
       "      <td>0.11</td>\n",
       "      <td>0</td>\n",
       "      <td>0.050402</td>\n",
       "    </tr>\n",
       "    <tr>\n",
       "      <th>4</th>\n",
       "      <td>0</td>\n",
       "      <td>\"is in CamelCase.  \"\"SiCKO\"\" is not CamelCase,...</td>\n",
       "      <td>0</td>\n",
       "      <td>0.07</td>\n",
       "      <td>0</td>\n",
       "      <td>0.026541</td>\n",
       "    </tr>\n",
       "  </tbody>\n",
       "</table>\n",
       "</div>"
      ],
      "text/plain": [
       "   is_offensive                                               text  \\\n",
       "0             0  Then go to the village pump and suggest they c...   \n",
       "1             1  ANTI GREEK NATIONALIS -WIKIPEDIA \\n\\nHi Alexik...   \n",
       "2             1     Dis hoe wasnt dis violent on Lottery Ticket 😂😂   \n",
       "3             0  It is better for Atabay not helping the banned...   \n",
       "4             0  \"is in CamelCase.  \"\"SiCKO\"\" is not CamelCase,...   \n",
       "\n",
       "   predicted_cuss  profanity_proba_cuss  predicted  profanity_proba  \n",
       "0               0                  0.03          0         0.009664  \n",
       "1               0                  0.13          0         0.248989  \n",
       "2               1                  0.84          1         0.867156  \n",
       "3               0                  0.11          0         0.050402  \n",
       "4               0                  0.07          0         0.026541  "
      ]
     },
     "execution_count": 29,
     "metadata": {},
     "output_type": "execute_result"
    }
   ],
   "source": [
    "df.head()"
   ]
  },
  {
   "cell_type": "code",
   "execution_count": 30,
   "id": "0c159773-ad65-48d6-bbde-8b408eb8ab83",
   "metadata": {},
   "outputs": [
    {
     "data": {
      "text/html": [
       "<div>\n",
       "<style scoped>\n",
       "    .dataframe tbody tr th:only-of-type {\n",
       "        vertical-align: middle;\n",
       "    }\n",
       "\n",
       "    .dataframe tbody tr th {\n",
       "        vertical-align: top;\n",
       "    }\n",
       "\n",
       "    .dataframe thead th {\n",
       "        text-align: right;\n",
       "    }\n",
       "</style>\n",
       "<table border=\"1\" class=\"dataframe\">\n",
       "  <thead>\n",
       "    <tr style=\"text-align: right;\">\n",
       "      <th></th>\n",
       "      <th>is_offensive</th>\n",
       "      <th>text</th>\n",
       "      <th>predicted_cuss</th>\n",
       "      <th>profanity_proba_cuss</th>\n",
       "      <th>predicted</th>\n",
       "      <th>profanity_proba</th>\n",
       "    </tr>\n",
       "  </thead>\n",
       "  <tbody>\n",
       "    <tr>\n",
       "      <th>1</th>\n",
       "      <td>1</td>\n",
       "      <td>ANTI GREEK NATIONALIS -WIKIPEDIA \\n\\nHi Alexik...</td>\n",
       "      <td>0</td>\n",
       "      <td>0.13</td>\n",
       "      <td>0</td>\n",
       "      <td>0.248989</td>\n",
       "    </tr>\n",
       "    <tr>\n",
       "      <th>21</th>\n",
       "      <td>1</td>\n",
       "      <td>I love my family, but I wouldn't even need wa...</td>\n",
       "      <td>1</td>\n",
       "      <td>0.58</td>\n",
       "      <td>0</td>\n",
       "      <td>0.434618</td>\n",
       "    </tr>\n",
       "    <tr>\n",
       "      <th>109</th>\n",
       "      <td>1</td>\n",
       "      <td>Some ratings from the VCHip \\n\\n1. The Power: ...</td>\n",
       "      <td>1</td>\n",
       "      <td>0.93</td>\n",
       "      <td>0</td>\n",
       "      <td>0.437385</td>\n",
       "    </tr>\n",
       "    <tr>\n",
       "      <th>198</th>\n",
       "      <td>1</td>\n",
       "      <td>Professional Wikipedia bureaucrats like you an...</td>\n",
       "      <td>0</td>\n",
       "      <td>0.13</td>\n",
       "      <td>0</td>\n",
       "      <td>0.237787</td>\n",
       "    </tr>\n",
       "    <tr>\n",
       "      <th>214</th>\n",
       "      <td>1</td>\n",
       "      <td>Hey I didn't come up with that Native Australi...</td>\n",
       "      <td>0</td>\n",
       "      <td>0.37</td>\n",
       "      <td>0</td>\n",
       "      <td>0.481010</td>\n",
       "    </tr>\n",
       "    <tr>\n",
       "      <th>...</th>\n",
       "      <td>...</td>\n",
       "      <td>...</td>\n",
       "      <td>...</td>\n",
       "      <td>...</td>\n",
       "      <td>...</td>\n",
       "      <td>...</td>\n",
       "    </tr>\n",
       "    <tr>\n",
       "      <th>183957</th>\n",
       "      <td>1</td>\n",
       "      <td>my dogs breath smells of contempt \\n\\nlook up ...</td>\n",
       "      <td>0</td>\n",
       "      <td>0.24</td>\n",
       "      <td>0</td>\n",
       "      <td>0.450393</td>\n",
       "    </tr>\n",
       "    <tr>\n",
       "      <th>184020</th>\n",
       "      <td>1</td>\n",
       "      <td>Go watch Buffy the Vampire Slayer or what ever...</td>\n",
       "      <td>0</td>\n",
       "      <td>0.18</td>\n",
       "      <td>0</td>\n",
       "      <td>0.252571</td>\n",
       "    </tr>\n",
       "    <tr>\n",
       "      <th>184056</th>\n",
       "      <td>1</td>\n",
       "      <td>Reversion\\n\\nGiven that some jerk vandalized t...</td>\n",
       "      <td>0</td>\n",
       "      <td>0.10</td>\n",
       "      <td>0</td>\n",
       "      <td>0.233900</td>\n",
       "    </tr>\n",
       "    <tr>\n",
       "      <th>184135</th>\n",
       "      <td>0</td>\n",
       "      <td>It be so good to not gotta woyke in da moanin....</td>\n",
       "      <td>1</td>\n",
       "      <td>0.66</td>\n",
       "      <td>1</td>\n",
       "      <td>0.770397</td>\n",
       "    </tr>\n",
       "    <tr>\n",
       "      <th>184209</th>\n",
       "      <td>1</td>\n",
       "      <td>1. You are lying. Post the sentence where it s...</td>\n",
       "      <td>0</td>\n",
       "      <td>0.13</td>\n",
       "      <td>0</td>\n",
       "      <td>0.293998</td>\n",
       "    </tr>\n",
       "  </tbody>\n",
       "</table>\n",
       "<p>6007 rows × 6 columns</p>\n",
       "</div>"
      ],
      "text/plain": [
       "        is_offensive                                               text  \\\n",
       "1                  1  ANTI GREEK NATIONALIS -WIKIPEDIA \\n\\nHi Alexik...   \n",
       "21                 1   I love my family, but I wouldn't even need wa...   \n",
       "109                1  Some ratings from the VCHip \\n\\n1. The Power: ...   \n",
       "198                1  Professional Wikipedia bureaucrats like you an...   \n",
       "214                1  Hey I didn't come up with that Native Australi...   \n",
       "...              ...                                                ...   \n",
       "183957             1  my dogs breath smells of contempt \\n\\nlook up ...   \n",
       "184020             1  Go watch Buffy the Vampire Slayer or what ever...   \n",
       "184056             1  Reversion\\n\\nGiven that some jerk vandalized t...   \n",
       "184135             0  It be so good to not gotta woyke in da moanin....   \n",
       "184209             1  1. You are lying. Post the sentence where it s...   \n",
       "\n",
       "        predicted_cuss  profanity_proba_cuss  predicted  profanity_proba  \n",
       "1                    0                  0.13          0         0.248989  \n",
       "21                   1                  0.58          0         0.434618  \n",
       "109                  1                  0.93          0         0.437385  \n",
       "198                  0                  0.13          0         0.237787  \n",
       "214                  0                  0.37          0         0.481010  \n",
       "...                ...                   ...        ...              ...  \n",
       "183957               0                  0.24          0         0.450393  \n",
       "184020               0                  0.18          0         0.252571  \n",
       "184056               0                  0.10          0         0.233900  \n",
       "184135               1                  0.66          1         0.770397  \n",
       "184209               0                  0.13          0         0.293998  \n",
       "\n",
       "[6007 rows x 6 columns]"
      ]
     },
     "execution_count": 30,
     "metadata": {},
     "output_type": "execute_result"
    }
   ],
   "source": [
    "df[df.predicted != df.is_offensive]"
   ]
  },
  {
   "cell_type": "code",
   "execution_count": 31,
   "id": "b0b4a618-3952-4e08-b70e-476d133e4e9a",
   "metadata": {},
   "outputs": [
    {
     "name": "stdout",
     "output_type": "stream",
     "text": [
      " Incorrect detection: 3.26%\n"
     ]
    }
   ],
   "source": [
    "print(f' Incorrect detection: {df[df.predicted != df.is_offensive].shape[0] / df.shape[0]:.2%}')"
   ]
  },
  {
   "cell_type": "code",
   "execution_count": 32,
   "id": "aeddb1a3-18e6-478a-90bc-90bb72a3f72b",
   "metadata": {},
   "outputs": [
    {
     "name": "stdout",
     "output_type": "stream",
     "text": [
      "143 ms ± 483 µs per loop (mean ± std. dev. of 7 runs, 10 loops each)\n"
     ]
    }
   ],
   "source": [
    "# Speed test\n",
    "%timeit df.text.iloc[:100].apply(lambda x: profanity_check.predict([x])).astype(int)"
   ]
  },
  {
   "cell_type": "code",
   "execution_count": 33,
   "id": "f8b283fa-1e59-4234-abc1-80e3cfc333d1",
   "metadata": {},
   "outputs": [
    {
     "name": "stdout",
     "output_type": "stream",
     "text": [
      "147 ms ± 1.22 ms per loop (mean ± std. dev. of 7 runs, 10 loops each)\n"
     ]
    }
   ],
   "source": [
    "%timeit df.text.iloc[:100].apply(lambda x: profanity_check.predict_prob([x])).astype(float)"
   ]
  },
  {
   "cell_type": "markdown",
   "id": "f92fd3c6-9600-4291-aaad-622cd7840560",
   "metadata": {},
   "source": [
    "### ***Fast and good filter***"
   ]
  },
  {
   "cell_type": "code",
   "execution_count": null,
   "id": "65b4fd73-6b69-45ae-95f8-bc0054151f42",
   "metadata": {},
   "outputs": [],
   "source": []
  },
  {
   "cell_type": "code",
   "execution_count": null,
   "id": "6c0cb61e-9ee9-4832-b21d-2a28c505a90c",
   "metadata": {},
   "outputs": [],
   "source": []
  },
  {
   "cell_type": "markdown",
   "id": "7a48ac67-0e8e-4041-b870-8a36c44bc089",
   "metadata": {},
   "source": [
    "## Test 2: **PurgoMalum** (free API for filtering swear words)"
   ]
  },
  {
   "cell_type": "code",
   "execution_count": 29,
   "id": "c47001a6-6ef4-472a-bb36-bb4b4ccaad06",
   "metadata": {},
   "outputs": [],
   "source": [
    "from purgo_malum import client as pm_client"
   ]
  },
  {
   "cell_type": "code",
   "execution_count": 30,
   "id": "339e58fa-b1ba-473d-81d0-32ab488d06db",
   "metadata": {},
   "outputs": [
    {
     "data": {
      "text/plain": [
       "'Crap! What a stupid idea!'"
      ]
     },
     "execution_count": 30,
     "metadata": {},
     "output_type": "execute_result"
    }
   ],
   "source": [
    "prompt"
   ]
  },
  {
   "cell_type": "code",
   "execution_count": 32,
   "id": "e62880e1-fc09-459d-92fd-9c36ac035a83",
   "metadata": {},
   "outputs": [
    {
     "data": {
      "text/plain": [
       "False"
      ]
     },
     "execution_count": 32,
     "metadata": {},
     "output_type": "execute_result"
    }
   ],
   "source": [
    "pm_client.contains_profanity(prompt)"
   ]
  },
  {
   "cell_type": "code",
   "execution_count": 60,
   "id": "cfada401-be22-4957-bc41-629ba8f6ed3f",
   "metadata": {},
   "outputs": [
    {
     "name": "stderr",
     "output_type": "stream",
     "text": [
      "<magic-timeit>:1: FutureWarning: The behavior of `series[i:j]` with an integer-dtype index is deprecated. In a future version, this will be treated as *label-based* indexing, consistent with e.g. `series[i]` lookups. To retain the old behavior, use `series.iloc[i:j]`. To get the future behavior, use `series.loc[i:j]`.\n"
     ]
    },
    {
     "name": "stdout",
     "output_type": "stream",
     "text": [
      "1min 34s ± 20.5 s per loop (mean ± std. dev. of 7 runs, 1 loop each)\n"
     ]
    }
   ],
   "source": [
    "# Speed test\n",
    "%timeit df.text[:100].apply(pm_client.contains_profanity).astype(int)"
   ]
  },
  {
   "cell_type": "markdown",
   "id": "f68d056e-eed9-4cb9-89c0-d1f33a1dfd65",
   "metadata": {
    "tags": []
   },
   "source": [
    "### ***Very slow!***"
   ]
  },
  {
   "cell_type": "code",
   "execution_count": null,
   "id": "f6fa8801",
   "metadata": {},
   "outputs": [],
   "source": []
  },
  {
   "cell_type": "code",
   "execution_count": null,
   "id": "3333e8b0-ee02-419d-97f7-41e7f7f1937a",
   "metadata": {},
   "outputs": [],
   "source": []
  },
  {
   "cell_type": "code",
   "execution_count": null,
   "id": "d8df5f4b-af24-4bc0-9f7a-705fcb4bed10",
   "metadata": {},
   "outputs": [],
   "source": []
  },
  {
   "cell_type": "markdown",
   "id": "0106a86a-3925-4259-8921-9493920f263c",
   "metadata": {},
   "source": [
    "## Test 3: **better-profanity** (Filtering using \"bad word\" list)"
   ]
  },
  {
   "cell_type": "code",
   "execution_count": null,
   "id": "c5c95189-7c2e-43d6-a82a-ffa6a37c8a4a",
   "metadata": {},
   "outputs": [],
   "source": []
  },
  {
   "cell_type": "code",
   "execution_count": 35,
   "id": "f6cee3d2-c13a-4306-b5e0-eba979cd1329",
   "metadata": {},
   "outputs": [],
   "source": [
    "import better_profanity"
   ]
  },
  {
   "cell_type": "code",
   "execution_count": 36,
   "id": "79e9825c-b61d-4872-baf5-bc93e9c0eaba",
   "metadata": {},
   "outputs": [
    {
     "data": {
      "text/plain": [
       "True"
      ]
     },
     "execution_count": 36,
     "metadata": {},
     "output_type": "execute_result"
    }
   ],
   "source": [
    "better_profanity.profanity.contains_profanity(prompt)"
   ]
  },
  {
   "cell_type": "code",
   "execution_count": 37,
   "id": "f87057a6-a87c-401d-bfd6-3c4bcf6ba503",
   "metadata": {},
   "outputs": [
    {
     "name": "stderr",
     "output_type": "stream",
     "text": [
      "<magic-timeit>:1: FutureWarning: The behavior of `series[i:j]` with an integer-dtype index is deprecated. In a future version, this will be treated as *label-based* indexing, consistent with e.g. `series[i]` lookups. To retain the old behavior, use `series.iloc[i:j]`. To get the future behavior, use `series.loc[i:j]`.\n"
     ]
    },
    {
     "name": "stdout",
     "output_type": "stream",
     "text": [
      "52.1 s ± 4.84 s per loop (mean ± std. dev. of 7 runs, 1 loop each)\n"
     ]
    }
   ],
   "source": [
    "# Speed test\n",
    "%timeit df.text[:100].apply(better_profanity.profanity.contains_profanity).astype(int)"
   ]
  },
  {
   "cell_type": "markdown",
   "id": "740c4d75-999c-4c80-be80-8c1f28da2ecf",
   "metadata": {},
   "source": [
    "### ***Very slow!***"
   ]
  },
  {
   "cell_type": "code",
   "execution_count": null,
   "id": "bae131e7-29dc-4163-ad0b-69b11a5c06e3",
   "metadata": {},
   "outputs": [],
   "source": []
  },
  {
   "cell_type": "code",
   "execution_count": null,
   "id": "ef4bfe06-0627-4862-bb64-80cfe1c437b0",
   "metadata": {},
   "outputs": [],
   "source": []
  },
  {
   "cell_type": "markdown",
   "id": "5a5b13a6-6e92-4eb7-8b7b-abdbac6cd9b5",
   "metadata": {},
   "source": [
    "## Test 4: **cuss-inspect** (pretrained linear regression ML model)"
   ]
  },
  {
   "cell_type": "code",
   "execution_count": 11,
   "id": "43dfe37b-9289-446b-8435-3e579b70cbe6",
   "metadata": {},
   "outputs": [
    {
     "name": "stderr",
     "output_type": "stream",
     "text": [
      "<frozen importlib._bootstrap>:228: RuntimeWarning: scipy._lib.messagestream.MessageStream size changed, may indicate binary incompatibility. Expected 56 from C header, got 64 from PyObject\n",
      "/home/drphyl/anaconda3/lib/python3.9/site-packages/sklearn/base.py:329: UserWarning: Trying to unpickle estimator TfidfTransformer from version 0.23.2 when using version 1.1.3. This might lead to breaking code or invalid results. Use at your own risk. For more info please refer to:\n",
      "https://scikit-learn.org/stable/model_persistence.html#security-maintainability-limitations\n",
      "  warnings.warn(\n",
      "/home/drphyl/anaconda3/lib/python3.9/site-packages/sklearn/base.py:329: UserWarning: Trying to unpickle estimator TfidfVectorizer from version 0.23.2 when using version 1.1.3. This might lead to breaking code or invalid results. Use at your own risk. For more info please refer to:\n",
      "https://scikit-learn.org/stable/model_persistence.html#security-maintainability-limitations\n",
      "  warnings.warn(\n",
      "/home/drphyl/anaconda3/lib/python3.9/site-packages/sklearn/base.py:329: UserWarning: Trying to unpickle estimator LogisticRegression from version 0.23.2 when using version 1.1.3. This might lead to breaking code or invalid results. Use at your own risk. For more info please refer to:\n",
      "https://scikit-learn.org/stable/model_persistence.html#security-maintainability-limitations\n",
      "  warnings.warn(\n"
     ]
    }
   ],
   "source": [
    "import cuss_inspect"
   ]
  },
  {
   "cell_type": "code",
   "execution_count": 12,
   "id": "34b6997e-98a8-49cb-84e4-cac987318478",
   "metadata": {},
   "outputs": [
    {
     "data": {
      "text/plain": [
       "array([1])"
      ]
     },
     "execution_count": 12,
     "metadata": {},
     "output_type": "execute_result"
    }
   ],
   "source": [
    "cuss_inspect.predict(prompt)"
   ]
  },
  {
   "cell_type": "code",
   "execution_count": 13,
   "id": "30f7772d-456e-4ebe-8155-da8a7098e2c4",
   "metadata": {},
   "outputs": [
    {
     "data": {
      "text/plain": [
       "array([1.])"
      ]
     },
     "execution_count": 13,
     "metadata": {},
     "output_type": "execute_result"
    }
   ],
   "source": [
    "cuss_inspect.predict_prob(prompt)"
   ]
  },
  {
   "cell_type": "code",
   "execution_count": 14,
   "id": "89324ad2-eb83-4841-94a7-c4fdb2ee4cce",
   "metadata": {},
   "outputs": [
    {
     "name": "stdout",
     "output_type": "stream",
     "text": [
      "65.9 ms ± 542 µs per loop (mean ± std. dev. of 7 runs, 10 loops each)\n"
     ]
    }
   ],
   "source": [
    "# Speed test\n",
    "%timeit df.text.iloc[:100].apply(cuss_inspect.predict_prob).astype(int)"
   ]
  },
  {
   "cell_type": "code",
   "execution_count": 15,
   "id": "8fda8a1d-ddf0-4922-b305-0362e1446060",
   "metadata": {},
   "outputs": [],
   "source": [
    "df['predicted_cuss'] = df.text.apply(cuss_inspect.predict).astype(int)"
   ]
  },
  {
   "cell_type": "code",
   "execution_count": 16,
   "id": "f4ad344c-5b15-48b4-96ac-bd56ad0a41b5",
   "metadata": {},
   "outputs": [
    {
     "data": {
      "text/html": [
       "<div>\n",
       "<style scoped>\n",
       "    .dataframe tbody tr th:only-of-type {\n",
       "        vertical-align: middle;\n",
       "    }\n",
       "\n",
       "    .dataframe tbody tr th {\n",
       "        vertical-align: top;\n",
       "    }\n",
       "\n",
       "    .dataframe thead th {\n",
       "        text-align: right;\n",
       "    }\n",
       "</style>\n",
       "<table border=\"1\" class=\"dataframe\">\n",
       "  <thead>\n",
       "    <tr style=\"text-align: right;\">\n",
       "      <th></th>\n",
       "      <th>is_offensive</th>\n",
       "      <th>text</th>\n",
       "      <th>predicted_cuss</th>\n",
       "    </tr>\n",
       "  </thead>\n",
       "  <tbody>\n",
       "    <tr>\n",
       "      <th>0</th>\n",
       "      <td>0</td>\n",
       "      <td>Then go to the village pump and suggest they c...</td>\n",
       "      <td>0</td>\n",
       "    </tr>\n",
       "    <tr>\n",
       "      <th>1</th>\n",
       "      <td>1</td>\n",
       "      <td>ANTI GREEK NATIONALIS -WIKIPEDIA \\n\\nHi Alexik...</td>\n",
       "      <td>0</td>\n",
       "    </tr>\n",
       "    <tr>\n",
       "      <th>2</th>\n",
       "      <td>1</td>\n",
       "      <td>Dis hoe wasnt dis violent on Lottery Ticket 😂😂</td>\n",
       "      <td>1</td>\n",
       "    </tr>\n",
       "    <tr>\n",
       "      <th>3</th>\n",
       "      <td>0</td>\n",
       "      <td>It is better for Atabay not helping the banned...</td>\n",
       "      <td>0</td>\n",
       "    </tr>\n",
       "    <tr>\n",
       "      <th>4</th>\n",
       "      <td>0</td>\n",
       "      <td>\"is in CamelCase.  \"\"SiCKO\"\" is not CamelCase,...</td>\n",
       "      <td>0</td>\n",
       "    </tr>\n",
       "    <tr>\n",
       "      <th>5</th>\n",
       "      <td>0</td>\n",
       "      <td>and  \\n\\nHi!  has Requested Arbitration with m...</td>\n",
       "      <td>0</td>\n",
       "    </tr>\n",
       "    <tr>\n",
       "      <th>6</th>\n",
       "      <td>0</td>\n",
       "      <td>Nonetheless lactose has a hemiacetal group whi...</td>\n",
       "      <td>0</td>\n",
       "    </tr>\n",
       "    <tr>\n",
       "      <th>7</th>\n",
       "      <td>0</td>\n",
       "      <td>Revert as much as you want \\n\\nBut never say y...</td>\n",
       "      <td>0</td>\n",
       "    </tr>\n",
       "    <tr>\n",
       "      <th>8</th>\n",
       "      <td>1</td>\n",
       "      <td>Yo bag Gucci but you still ugly hoe shut up</td>\n",
       "      <td>1</td>\n",
       "    </tr>\n",
       "    <tr>\n",
       "      <th>9</th>\n",
       "      <td>0</td>\n",
       "      <td>Thanks\\nI would have used the ping thanks but ...</td>\n",
       "      <td>0</td>\n",
       "    </tr>\n",
       "    <tr>\n",
       "      <th>10</th>\n",
       "      <td>0</td>\n",
       "      <td>Please do your testing in the sandbox. Thanks....</td>\n",
       "      <td>0</td>\n",
       "    </tr>\n",
       "    <tr>\n",
       "      <th>11</th>\n",
       "      <td>0</td>\n",
       "      <td>re: scott fivelson \\n\\nHello there.  I believe...</td>\n",
       "      <td>0</td>\n",
       "    </tr>\n",
       "    <tr>\n",
       "      <th>12</th>\n",
       "      <td>0</td>\n",
       "      <td>\"\\n\\n Prometheus \\n\"\"net word count now reduce...</td>\n",
       "      <td>0</td>\n",
       "    </tr>\n",
       "    <tr>\n",
       "      <th>13</th>\n",
       "      <td>0</td>\n",
       "      <td>Doesn't need to be either/or. During the Cold ...</td>\n",
       "      <td>0</td>\n",
       "    </tr>\n",
       "    <tr>\n",
       "      <th>14</th>\n",
       "      <td>0</td>\n",
       "      <td>and that's what they were called most of the t...</td>\n",
       "      <td>0</td>\n",
       "    </tr>\n",
       "    <tr>\n",
       "      <th>15</th>\n",
       "      <td>0</td>\n",
       "      <td>(UTC)\\n\\nBut what is it with you the protester...</td>\n",
       "      <td>0</td>\n",
       "    </tr>\n",
       "    <tr>\n",
       "      <th>16</th>\n",
       "      <td>0</td>\n",
       "      <td>\"\\n\\n Locked talk page \\n\\n\"\"Since you immedia...</td>\n",
       "      <td>0</td>\n",
       "    </tr>\n",
       "    <tr>\n",
       "      <th>17</th>\n",
       "      <td>0</td>\n",
       "      <td>I DID SAY THE RIGHT STUFF HOW IS IT INVAILD???...</td>\n",
       "      <td>0</td>\n",
       "    </tr>\n",
       "    <tr>\n",
       "      <th>18</th>\n",
       "      <td>0</td>\n",
       "      <td>\"\\n\\nThis is the website,  \\n\\nit clearly stat...</td>\n",
       "      <td>0</td>\n",
       "    </tr>\n",
       "    <tr>\n",
       "      <th>19</th>\n",
       "      <td>0</td>\n",
       "      <td>Bias \\nThis article is pretty biased, with all...</td>\n",
       "      <td>0</td>\n",
       "    </tr>\n",
       "  </tbody>\n",
       "</table>\n",
       "</div>"
      ],
      "text/plain": [
       "    is_offensive                                               text  \\\n",
       "0              0  Then go to the village pump and suggest they c...   \n",
       "1              1  ANTI GREEK NATIONALIS -WIKIPEDIA \\n\\nHi Alexik...   \n",
       "2              1     Dis hoe wasnt dis violent on Lottery Ticket 😂😂   \n",
       "3              0  It is better for Atabay not helping the banned...   \n",
       "4              0  \"is in CamelCase.  \"\"SiCKO\"\" is not CamelCase,...   \n",
       "5              0  and  \\n\\nHi!  has Requested Arbitration with m...   \n",
       "6              0  Nonetheless lactose has a hemiacetal group whi...   \n",
       "7              0  Revert as much as you want \\n\\nBut never say y...   \n",
       "8              1        Yo bag Gucci but you still ugly hoe shut up   \n",
       "9              0  Thanks\\nI would have used the ping thanks but ...   \n",
       "10             0  Please do your testing in the sandbox. Thanks....   \n",
       "11             0  re: scott fivelson \\n\\nHello there.  I believe...   \n",
       "12             0  \"\\n\\n Prometheus \\n\"\"net word count now reduce...   \n",
       "13             0  Doesn't need to be either/or. During the Cold ...   \n",
       "14             0  and that's what they were called most of the t...   \n",
       "15             0  (UTC)\\n\\nBut what is it with you the protester...   \n",
       "16             0  \"\\n\\n Locked talk page \\n\\n\"\"Since you immedia...   \n",
       "17             0  I DID SAY THE RIGHT STUFF HOW IS IT INVAILD???...   \n",
       "18             0  \"\\n\\nThis is the website,  \\n\\nit clearly stat...   \n",
       "19             0  Bias \\nThis article is pretty biased, with all...   \n",
       "\n",
       "    predicted_cuss  \n",
       "0                0  \n",
       "1                0  \n",
       "2                1  \n",
       "3                0  \n",
       "4                0  \n",
       "5                0  \n",
       "6                0  \n",
       "7                0  \n",
       "8                1  \n",
       "9                0  \n",
       "10               0  \n",
       "11               0  \n",
       "12               0  \n",
       "13               0  \n",
       "14               0  \n",
       "15               0  \n",
       "16               0  \n",
       "17               0  \n",
       "18               0  \n",
       "19               0  "
      ]
     },
     "execution_count": 16,
     "metadata": {},
     "output_type": "execute_result"
    }
   ],
   "source": [
    "df.head(20)"
   ]
  },
  {
   "cell_type": "code",
   "execution_count": 17,
   "id": "d9244ac4-006b-4ade-9a27-01f0477537a8",
   "metadata": {},
   "outputs": [],
   "source": [
    "df['profanity_proba_cuss'] = df.text.apply(cuss_inspect.predict_prob).astype(float)"
   ]
  },
  {
   "cell_type": "code",
   "execution_count": 34,
   "id": "e7ad0666-625d-4793-936c-a98f9a3988e8",
   "metadata": {},
   "outputs": [
    {
     "data": {
      "text/html": [
       "<div>\n",
       "<style scoped>\n",
       "    .dataframe tbody tr th:only-of-type {\n",
       "        vertical-align: middle;\n",
       "    }\n",
       "\n",
       "    .dataframe tbody tr th {\n",
       "        vertical-align: top;\n",
       "    }\n",
       "\n",
       "    .dataframe thead th {\n",
       "        text-align: right;\n",
       "    }\n",
       "</style>\n",
       "<table border=\"1\" class=\"dataframe\">\n",
       "  <thead>\n",
       "    <tr style=\"text-align: right;\">\n",
       "      <th></th>\n",
       "      <th>is_offensive</th>\n",
       "      <th>text</th>\n",
       "      <th>predicted_cuss</th>\n",
       "      <th>profanity_proba_cuss</th>\n",
       "      <th>predicted</th>\n",
       "      <th>profanity_proba</th>\n",
       "    </tr>\n",
       "  </thead>\n",
       "  <tbody>\n",
       "    <tr>\n",
       "      <th>21</th>\n",
       "      <td>1</td>\n",
       "      <td>I love my family, but I wouldn't even need wa...</td>\n",
       "      <td>1</td>\n",
       "      <td>0.58</td>\n",
       "      <td>0</td>\n",
       "      <td>0.434618</td>\n",
       "    </tr>\n",
       "    <tr>\n",
       "      <th>58</th>\n",
       "      <td>0</td>\n",
       "      <td>@IAmPikey \\nI wonders why dare ain't no colore...</td>\n",
       "      <td>1</td>\n",
       "      <td>0.54</td>\n",
       "      <td>0</td>\n",
       "      <td>0.454385</td>\n",
       "    </tr>\n",
       "    <tr>\n",
       "      <th>85</th>\n",
       "      <td>1</td>\n",
       "      <td>BLOCKING\\nBLOCKING ME OVER THE BLANKING OF MY ...</td>\n",
       "      <td>0</td>\n",
       "      <td>0.44</td>\n",
       "      <td>1</td>\n",
       "      <td>0.631604</td>\n",
       "    </tr>\n",
       "    <tr>\n",
       "      <th>109</th>\n",
       "      <td>1</td>\n",
       "      <td>Some ratings from the VCHip \\n\\n1. The Power: ...</td>\n",
       "      <td>1</td>\n",
       "      <td>0.93</td>\n",
       "      <td>0</td>\n",
       "      <td>0.437385</td>\n",
       "    </tr>\n",
       "    <tr>\n",
       "      <th>166</th>\n",
       "      <td>1</td>\n",
       "      <td>What is this, admins, swooping down and gang b...</td>\n",
       "      <td>0</td>\n",
       "      <td>0.18</td>\n",
       "      <td>1</td>\n",
       "      <td>0.503463</td>\n",
       "    </tr>\n",
       "    <tr>\n",
       "      <th>...</th>\n",
       "      <td>...</td>\n",
       "      <td>...</td>\n",
       "      <td>...</td>\n",
       "      <td>...</td>\n",
       "      <td>...</td>\n",
       "      <td>...</td>\n",
       "    </tr>\n",
       "    <tr>\n",
       "      <th>184170</th>\n",
       "      <td>1</td>\n",
       "      <td>Of course I am right, dammit!</td>\n",
       "      <td>0</td>\n",
       "      <td>0.23</td>\n",
       "      <td>1</td>\n",
       "      <td>0.595792</td>\n",
       "    </tr>\n",
       "    <tr>\n",
       "      <th>184178</th>\n",
       "      <td>1</td>\n",
       "      <td>Pete is the real offender in all of this. A ve...</td>\n",
       "      <td>0</td>\n",
       "      <td>0.41</td>\n",
       "      <td>1</td>\n",
       "      <td>0.820069</td>\n",
       "    </tr>\n",
       "    <tr>\n",
       "      <th>184241</th>\n",
       "      <td>1</td>\n",
       "      <td>lol funny how he hav only 1 ball... I also fou...</td>\n",
       "      <td>0</td>\n",
       "      <td>0.39</td>\n",
       "      <td>1</td>\n",
       "      <td>0.510832</td>\n",
       "    </tr>\n",
       "    <tr>\n",
       "      <th>184324</th>\n",
       "      <td>0</td>\n",
       "      <td>Go fight against the IDF if you progressive t...</td>\n",
       "      <td>1</td>\n",
       "      <td>0.56</td>\n",
       "      <td>0</td>\n",
       "      <td>0.310473</td>\n",
       "    </tr>\n",
       "    <tr>\n",
       "      <th>184348</th>\n",
       "      <td>1</td>\n",
       "      <td>\"\\nLMAO, that's basically saying \"\"wahhh he ca...</td>\n",
       "      <td>0</td>\n",
       "      <td>0.38</td>\n",
       "      <td>1</td>\n",
       "      <td>0.685376</td>\n",
       "    </tr>\n",
       "  </tbody>\n",
       "</table>\n",
       "<p>3312 rows × 6 columns</p>\n",
       "</div>"
      ],
      "text/plain": [
       "        is_offensive                                               text  \\\n",
       "21                 1   I love my family, but I wouldn't even need wa...   \n",
       "58                 0  @IAmPikey \\nI wonders why dare ain't no colore...   \n",
       "85                 1  BLOCKING\\nBLOCKING ME OVER THE BLANKING OF MY ...   \n",
       "109                1  Some ratings from the VCHip \\n\\n1. The Power: ...   \n",
       "166                1  What is this, admins, swooping down and gang b...   \n",
       "...              ...                                                ...   \n",
       "184170             1                      Of course I am right, dammit!   \n",
       "184178             1  Pete is the real offender in all of this. A ve...   \n",
       "184241             1  lol funny how he hav only 1 ball... I also fou...   \n",
       "184324             0   Go fight against the IDF if you progressive t...   \n",
       "184348             1  \"\\nLMAO, that's basically saying \"\"wahhh he ca...   \n",
       "\n",
       "        predicted_cuss  profanity_proba_cuss  predicted  profanity_proba  \n",
       "21                   1                  0.58          0         0.434618  \n",
       "58                   1                  0.54          0         0.454385  \n",
       "85                   0                  0.44          1         0.631604  \n",
       "109                  1                  0.93          0         0.437385  \n",
       "166                  0                  0.18          1         0.503463  \n",
       "...                ...                   ...        ...              ...  \n",
       "184170               0                  0.23          1         0.595792  \n",
       "184178               0                  0.41          1         0.820069  \n",
       "184241               0                  0.39          1         0.510832  \n",
       "184324               1                  0.56          0         0.310473  \n",
       "184348               0                  0.38          1         0.685376  \n",
       "\n",
       "[3312 rows x 6 columns]"
      ]
     },
     "execution_count": 34,
     "metadata": {},
     "output_type": "execute_result"
    }
   ],
   "source": [
    "df[df.predicted_cuss != df.predicted]"
   ]
  },
  {
   "cell_type": "code",
   "execution_count": 19,
   "id": "24787524-56d0-43c7-af4e-bd61de1cda39",
   "metadata": {},
   "outputs": [
    {
     "name": "stdout",
     "output_type": "stream",
     "text": [
      " Incorrect detection: 4.10%\n"
     ]
    }
   ],
   "source": [
    "print(f' Incorrect detection: {df[df.predicted_cuss != df.is_offensive].shape[0] / df.shape[0]:.2%}')"
   ]
  },
  {
   "cell_type": "markdown",
   "id": "d4156cc8-2db0-448d-8d9d-b10731230549",
   "metadata": {},
   "source": [
    "### ***Fast and good filter***"
   ]
  },
  {
   "cell_type": "code",
   "execution_count": null,
   "id": "6629d4f7-33e8-4672-826f-0f84bf313054",
   "metadata": {},
   "outputs": [],
   "source": []
  },
  {
   "cell_type": "code",
   "execution_count": null,
   "id": "8fc52d38",
   "metadata": {},
   "outputs": [],
   "source": []
  },
  {
   "cell_type": "markdown",
   "id": "b3c37a4b",
   "metadata": {},
   "source": [
    "## Test 5: **detoxify** (fine-tuned  model based on ⚡ Pytorch Lightning and 🤗 Transformers)"
   ]
  },
  {
   "cell_type": "code",
   "execution_count": 35,
   "id": "c14acc4a",
   "metadata": {},
   "outputs": [],
   "source": [
    "from detoxify import Detoxify"
   ]
  },
  {
   "cell_type": "code",
   "execution_count": 36,
   "id": "83a50552",
   "metadata": {},
   "outputs": [
    {
     "data": {
      "text/plain": [
       "{'toxicity': 0.9918852,\n",
       " 'severe_toxicity': 0.057579733,\n",
       " 'obscene': 0.9288087,\n",
       " 'threat': 0.0015136617,\n",
       " 'insult': 0.4938805,\n",
       " 'identity_attack': 0.0032318365}"
      ]
     },
     "execution_count": 36,
     "metadata": {},
     "output_type": "execute_result"
    }
   ],
   "source": [
    "# each model takes in either a string or a list of strings\n",
    "\n",
    "Detoxify('original').predict(prompt)"
   ]
  },
  {
   "cell_type": "code",
   "execution_count": 38,
   "id": "2407cdc4",
   "metadata": {},
   "outputs": [
    {
     "name": "stdout",
     "output_type": "stream",
     "text": [
      "1min 19s ± 1.61 s per loop (mean ± std. dev. of 7 runs, 1 loop each)\n"
     ]
    }
   ],
   "source": [
    "# Speed test\n",
    "%timeit Detoxify('original').predict(df.text.iloc[:100].to_list())"
   ]
  },
  {
   "cell_type": "markdown",
   "id": "3488d2eb",
   "metadata": {},
   "source": [
    "### ***Very slow!***"
   ]
  },
  {
   "cell_type": "code",
   "execution_count": null,
   "id": "ee32a5e6",
   "metadata": {},
   "outputs": [],
   "source": []
  },
  {
   "cell_type": "code",
   "execution_count": null,
   "id": "dd13f32c",
   "metadata": {},
   "outputs": [],
   "source": []
  },
  {
   "cell_type": "code",
   "execution_count": null,
   "id": "2135efbe",
   "metadata": {},
   "outputs": [],
   "source": []
  },
  {
   "cell_type": "code",
   "execution_count": null,
   "id": "3ea2f449",
   "metadata": {},
   "outputs": [],
   "source": []
  },
  {
   "cell_type": "code",
   "execution_count": null,
   "id": "d35c179e",
   "metadata": {},
   "outputs": [],
   "source": []
  },
  {
   "cell_type": "code",
   "execution_count": null,
   "id": "023b285b",
   "metadata": {},
   "outputs": [],
   "source": []
  },
  {
   "cell_type": "code",
   "execution_count": 56,
   "id": "8ce51c33-2370-4aeb-b71d-6cf1b2ddf319",
   "metadata": {},
   "outputs": [
    {
     "data": {
      "text/html": [
       "<div>\n",
       "<style scoped>\n",
       "    .dataframe tbody tr th:only-of-type {\n",
       "        vertical-align: middle;\n",
       "    }\n",
       "\n",
       "    .dataframe tbody tr th {\n",
       "        vertical-align: top;\n",
       "    }\n",
       "\n",
       "    .dataframe thead th {\n",
       "        text-align: right;\n",
       "    }\n",
       "</style>\n",
       "<table border=\"1\" class=\"dataframe\">\n",
       "  <thead>\n",
       "    <tr style=\"text-align: right;\">\n",
       "      <th></th>\n",
       "      <th>is_offensive</th>\n",
       "      <th>text</th>\n",
       "      <th>predicted</th>\n",
       "      <th>profanity_proba</th>\n",
       "      <th>predicted_cuss</th>\n",
       "      <th>profanity_proba_cuss</th>\n",
       "    </tr>\n",
       "  </thead>\n",
       "  <tbody>\n",
       "    <tr>\n",
       "      <th>0</th>\n",
       "      <td>0</td>\n",
       "      <td>Then go to the village pump and suggest they c...</td>\n",
       "      <td>0</td>\n",
       "      <td>0.009664</td>\n",
       "      <td>0</td>\n",
       "      <td>0.03</td>\n",
       "    </tr>\n",
       "    <tr>\n",
       "      <th>1</th>\n",
       "      <td>1</td>\n",
       "      <td>ANTI GREEK NATIONALIS -WIKIPEDIA \\n\\nHi Alexik...</td>\n",
       "      <td>0</td>\n",
       "      <td>0.248989</td>\n",
       "      <td>0</td>\n",
       "      <td>0.13</td>\n",
       "    </tr>\n",
       "    <tr>\n",
       "      <th>2</th>\n",
       "      <td>1</td>\n",
       "      <td>Dis hoe wasnt dis violent on Lottery Ticket 😂😂</td>\n",
       "      <td>1</td>\n",
       "      <td>0.867156</td>\n",
       "      <td>1</td>\n",
       "      <td>0.84</td>\n",
       "    </tr>\n",
       "    <tr>\n",
       "      <th>3</th>\n",
       "      <td>0</td>\n",
       "      <td>It is better for Atabay not helping the banned...</td>\n",
       "      <td>0</td>\n",
       "      <td>0.050402</td>\n",
       "      <td>0</td>\n",
       "      <td>0.11</td>\n",
       "    </tr>\n",
       "    <tr>\n",
       "      <th>4</th>\n",
       "      <td>0</td>\n",
       "      <td>\"is in CamelCase.  \"\"SiCKO\"\" is not CamelCase,...</td>\n",
       "      <td>0</td>\n",
       "      <td>0.026541</td>\n",
       "      <td>0</td>\n",
       "      <td>0.07</td>\n",
       "    </tr>\n",
       "    <tr>\n",
       "      <th>...</th>\n",
       "      <td>...</td>\n",
       "      <td>...</td>\n",
       "      <td>...</td>\n",
       "      <td>...</td>\n",
       "      <td>...</td>\n",
       "      <td>...</td>\n",
       "    </tr>\n",
       "    <tr>\n",
       "      <th>184349</th>\n",
       "      <td>0</td>\n",
       "      <td>Template:uw-vandalism2 &gt;  | Talk</td>\n",
       "      <td>0</td>\n",
       "      <td>0.023801</td>\n",
       "      <td>0</td>\n",
       "      <td>0.02</td>\n",
       "    </tr>\n",
       "    <tr>\n",
       "      <th>184350</th>\n",
       "      <td>1</td>\n",
       "      <td>Regrets are for pussies. Shit happens, deal w...</td>\n",
       "      <td>1</td>\n",
       "      <td>0.995923</td>\n",
       "      <td>1</td>\n",
       "      <td>0.99</td>\n",
       "    </tr>\n",
       "    <tr>\n",
       "      <th>184351</th>\n",
       "      <td>0</td>\n",
       "      <td>Could this possibly be the origin of popular g...</td>\n",
       "      <td>0</td>\n",
       "      <td>0.003796</td>\n",
       "      <td>0</td>\n",
       "      <td>0.04</td>\n",
       "    </tr>\n",
       "    <tr>\n",
       "      <th>184352</th>\n",
       "      <td>0</td>\n",
       "      <td>\"Your article submission has been declined, an...</td>\n",
       "      <td>0</td>\n",
       "      <td>0.003503</td>\n",
       "      <td>0</td>\n",
       "      <td>0.01</td>\n",
       "    </tr>\n",
       "    <tr>\n",
       "      <th>184353</th>\n",
       "      <td>0</td>\n",
       "      <td>.\\nEditors can not move articles except inside...</td>\n",
       "      <td>0</td>\n",
       "      <td>0.023949</td>\n",
       "      <td>0</td>\n",
       "      <td>0.04</td>\n",
       "    </tr>\n",
       "  </tbody>\n",
       "</table>\n",
       "<p>184350 rows × 6 columns</p>\n",
       "</div>"
      ],
      "text/plain": [
       "        is_offensive                                               text  \\\n",
       "0                  0  Then go to the village pump and suggest they c...   \n",
       "1                  1  ANTI GREEK NATIONALIS -WIKIPEDIA \\n\\nHi Alexik...   \n",
       "2                  1     Dis hoe wasnt dis violent on Lottery Ticket 😂😂   \n",
       "3                  0  It is better for Atabay not helping the banned...   \n",
       "4                  0  \"is in CamelCase.  \"\"SiCKO\"\" is not CamelCase,...   \n",
       "...              ...                                                ...   \n",
       "184349             0                   Template:uw-vandalism2 >  | Talk   \n",
       "184350             1   Regrets are for pussies. Shit happens, deal w...   \n",
       "184351             0  Could this possibly be the origin of popular g...   \n",
       "184352             0  \"Your article submission has been declined, an...   \n",
       "184353             0  .\\nEditors can not move articles except inside...   \n",
       "\n",
       "        predicted  profanity_proba  predicted_cuss  profanity_proba_cuss  \n",
       "0               0         0.009664               0                  0.03  \n",
       "1               0         0.248989               0                  0.13  \n",
       "2               1         0.867156               1                  0.84  \n",
       "3               0         0.050402               0                  0.11  \n",
       "4               0         0.026541               0                  0.07  \n",
       "...           ...              ...             ...                   ...  \n",
       "184349          0         0.023801               0                  0.02  \n",
       "184350          1         0.995923               1                  0.99  \n",
       "184351          0         0.003796               0                  0.04  \n",
       "184352          0         0.003503               0                  0.01  \n",
       "184353          0         0.023949               0                  0.04  \n",
       "\n",
       "[184350 rows x 6 columns]"
      ]
     },
     "execution_count": 56,
     "metadata": {},
     "output_type": "execute_result"
    }
   ],
   "source": [
    "df"
   ]
  },
  {
   "cell_type": "code",
   "execution_count": 59,
   "id": "e67d4a58-ffba-4536-aae9-68f0103a4851",
   "metadata": {},
   "outputs": [],
   "source": [
    "df.to_csv(\"profanity_dataset_prediction.csv\", index=False)"
   ]
  },
  {
   "cell_type": "code",
   "execution_count": null,
   "id": "74dbf1b9-da7a-4fbb-9170-8d8c2c1aec6a",
   "metadata": {},
   "outputs": [],
   "source": []
  },
  {
   "cell_type": "code",
   "execution_count": null,
   "id": "3e1f8f05-0236-49c3-a8a9-bf651e0636ff",
   "metadata": {},
   "outputs": [],
   "source": []
  },
  {
   "cell_type": "code",
   "execution_count": null,
   "id": "046f2d07-5181-48e6-a9a3-4668603b6a5f",
   "metadata": {},
   "outputs": [],
   "source": []
  },
  {
   "cell_type": "code",
   "execution_count": null,
   "id": "757f6a99-43dc-488a-aad9-4a71e8e15622",
   "metadata": {},
   "outputs": [],
   "source": []
  }
 ],
 "metadata": {
  "kernelspec": {
   "display_name": "Python 3 (ipykernel)",
   "language": "python",
   "name": "python3"
  },
  "language_info": {
   "codemirror_mode": {
    "name": "ipython",
    "version": 3
   },
   "file_extension": ".py",
   "mimetype": "text/x-python",
   "name": "python",
   "nbconvert_exporter": "python",
   "pygments_lexer": "ipython3",
   "version": "3.9.12"
  }
 },
 "nbformat": 4,
 "nbformat_minor": 5
}
